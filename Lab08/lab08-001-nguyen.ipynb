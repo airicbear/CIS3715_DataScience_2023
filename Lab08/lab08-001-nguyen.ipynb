{
 "cells": [
  {
   "cell_type": "markdown",
   "metadata": {},
   "source": [
    "# Lab 8: Recommender System\n",
    "\n",
    "In this assignment, we will study how to do user-based collaborative filtering and item-based collaborative filtering. "
   ]
  },
  {
   "cell_type": "markdown",
   "metadata": {},
   "source": [
    "## 1. Dataset\n",
    "\n",
    "In this assignment, we will use MovieLens-100K dataset. It includes about 100,000 ratings from 1000 users on 1700 movies.  "
   ]
  },
  {
   "cell_type": "code",
   "execution_count": 1,
   "metadata": {},
   "outputs": [
    {
     "name": "stdout",
     "output_type": "stream",
     "text": [
      "(943, 1664)\n",
      "(943, 1664)\n"
     ]
    }
   ],
   "source": [
    "import pandas as pd\n",
    "import numpy as np\n",
    "from scipy.sparse import csr_matrix\n",
    "from sklearn.neighbors import NearestNeighbors\n",
    "from typing import Tuple\n",
    "\n",
    "\n",
    "# 1. load data\n",
    "user_ratings_train = pd.read_csv('./ml-100k/u1.base',\n",
    "                                 sep='\\t', names=['user_id', 'movie_id', 'rating'], usecols=[0, 1, 2])\n",
    "\n",
    "user_ratings_test = pd.read_csv('./ml-100k/u1.test',\n",
    "                                sep='\\t', names=['user_id', 'movie_id', 'rating'], usecols=[0, 1, 2])\n",
    "\n",
    "movie_info = pd.read_csv('./ml-100k/u.item',\n",
    "                         sep='|', names=['movie_id', 'title'], usecols=[0, 1],\n",
    "                         encoding=\"ISO-8859-1\")\n",
    "\n",
    "user_ratings_train = pd.merge(movie_info, user_ratings_train)\n",
    "user_ratings_test = pd.merge(movie_info, user_ratings_test)\n",
    "\n",
    "# 2. get the rating matrix. Each row is a user, and each column is a movie.\n",
    "user_ratings_train = user_ratings_train.pivot_table(index=['user_id'],\n",
    "                                                    columns=['title'],\n",
    "                                                    values='rating')\n",
    "\n",
    "user_ratings_test = user_ratings_test.pivot_table(index=['user_id'],\n",
    "                                                  columns=['title'],\n",
    "                                                  values='rating')\n",
    "\n",
    "\n",
    "user_ratings_train = user_ratings_train.reindex(\n",
    "    index=user_ratings_train.index.union(user_ratings_test.index),\n",
    "    columns=user_ratings_train.columns.union(user_ratings_test.columns))\n",
    "\n",
    "user_ratings_test = user_ratings_test.reindex(\n",
    "    index=user_ratings_train.index.union(user_ratings_test.index),\n",
    "    columns=user_ratings_train.columns.union(user_ratings_test.columns))\n",
    "\n",
    "print(user_ratings_train.shape)\n",
    "print(user_ratings_test.shape)\n"
   ]
  },
  {
   "attachments": {},
   "cell_type": "markdown",
   "metadata": {},
   "source": [
    "## Define shared methods"
   ]
  },
  {
   "cell_type": "code",
   "execution_count": 2,
   "metadata": {},
   "outputs": [],
   "source": [
    "def calculate_distances(minperiods: int, nneighbors: int, user_ratings: pd.DataFrame) -> pd.DataFrame:\n",
    "    distances = user_ratings.transpose().corr(method='pearson', min_periods=minperiods)\n",
    "    distances = distances.dropna(axis=0, thresh=nneighbors+1).dropna(axis=1, thresh=nneighbors+1)\n",
    "    distances = distances.loc[distances.columns]\n",
    "    distances = 1 - distances\n",
    "    distances[distances < 0] = 0\n",
    "    return distances\n"
   ]
  },
  {
   "cell_type": "code",
   "execution_count": 3,
   "metadata": {},
   "outputs": [],
   "source": [
    "def create_model(nneighbors: int, metric = 'precomputed') -> NearestNeighbors:\n",
    "    model = NearestNeighbors(metric=metric,\n",
    "                             algorithm='brute',\n",
    "                             n_neighbors=nneighbors,\n",
    "                             n_jobs=-1)\n",
    "    \n",
    "    return model"
   ]
  },
  {
   "cell_type": "code",
   "execution_count": 4,
   "metadata": {},
   "outputs": [],
   "source": [
    "def train_model(model: NearestNeighbors, distances: pd.DataFrame) -> NearestNeighbors:\n",
    "    return model.fit(csr_matrix(distances.fillna(0).values))"
   ]
  },
  {
   "cell_type": "code",
   "execution_count": 5,
   "metadata": {},
   "outputs": [],
   "source": [
    "def get_kneighbors(model: NearestNeighbors, distances: pd.DataFrame, nneighbors: int) -> Tuple[np.ndarray, np.ndarray]:\n",
    "    similarity, indices = model.kneighbors(csr_matrix(distances.fillna(0).values),\n",
    "                                           n_neighbors=nneighbors)\n",
    "\n",
    "    return similarity, indices\n"
   ]
  },
  {
   "cell_type": "code",
   "execution_count": 6,
   "metadata": {},
   "outputs": [],
   "source": [
    "def get_neighborhoods(distances: pd.DataFrame, similarity: np.ndarray, indices: np.ndarray) -> pd.DataFrame:\n",
    "    neighborhoods = pd.DataFrame({'neighborhood_ids': [distances.iloc[neighbors].index.to_list() for neighbors in indices],\n",
    "                                  'distance': similarity.tolist()},\n",
    "                                 index=distances.index)\n",
    "\n",
    "    return neighborhoods\n"
   ]
  },
  {
   "cell_type": "code",
   "execution_count": 7,
   "metadata": {},
   "outputs": [],
   "source": [
    "def mae(user_ratings: pd.DataFrame, predicted_ratings: pd.DataFrame) -> float:\n",
    "    abs_dif = abs(user_ratings - predicted_ratings)\n",
    "    n = np.sum(user_ratings.count())\n",
    "    return abs_dif.sum().sum() / n\n"
   ]
  },
  {
   "cell_type": "markdown",
   "metadata": {},
   "source": [
    "## Task 1. User-based CF\n",
    "\n",
    "* Use pearson correlation to get the similarity between different users.\n",
    "* Based on the obtained similarity score, predict the ratings. You can use 5 nearest neighbors or 10 nearest neighbors.\n",
    "* Compute MAE for the testing set."
   ]
  },
  {
   "cell_type": "code",
   "execution_count": 8,
   "metadata": {},
   "outputs": [],
   "source": [
    "def usercf_predict_rating_closure(user_ratings: pd.DataFrame, neighborhoods: pd.DataFrame):\n",
    "    def usercf_predict_rating_using_nmean(row):\n",
    "        neighbors_ids = neighborhoods['neighborhood_ids'].loc[row.name]\n",
    "        pred_ratings = user_ratings.loc[neighbors_ids].mean()\n",
    "        return round(pred_ratings)\n",
    "    \n",
    "    return usercf_predict_rating_using_nmean"
   ]
  },
  {
   "cell_type": "code",
   "execution_count": 9,
   "metadata": {},
   "outputs": [],
   "source": [
    "def usercf_make_predictions(user_ratings: pd.DataFrame, neighborhoods: int) -> pd.DataFrame:\n",
    "    pred = user_ratings.reindex(neighborhoods.index).apply(usercf_predict_rating_closure(user_ratings,\n",
    "                                                                                         neighborhoods),\n",
    "                                                           axis='columns')\n",
    "\n",
    "    return pred\n"
   ]
  },
  {
   "cell_type": "code",
   "execution_count": 10,
   "metadata": {},
   "outputs": [],
   "source": [
    "def recommendation_system_user_model(minperiods: int, nneighbors: int, user_ratings: pd.DataFrame) -> Tuple[pd.DataFrame, pd.DataFrame]:\n",
    "    user_distances = calculate_distances(minperiods, nneighbors, user_ratings)\n",
    "    model = create_model(nneighbors)\n",
    "    train_model(model, user_distances)\n",
    "    similarity, indices = get_kneighbors(model, user_distances, nneighbors)\n",
    "    neighborhoods = get_neighborhoods(user_distances, similarity, indices)\n",
    "    pred = usercf_make_predictions(user_ratings, neighborhoods)\n",
    "\n",
    "    user_ratings.merge(pred, how='right')\n",
    "\n",
    "    return pred, neighborhoods\n"
   ]
  },
  {
   "attachments": {},
   "cell_type": "markdown",
   "metadata": {},
   "source": [
    "Calculate MAE on test set using user-based CF with 10 neighbors:"
   ]
  },
  {
   "cell_type": "code",
   "execution_count": 11,
   "metadata": {},
   "outputs": [
    {
     "name": "stderr",
     "output_type": "stream",
     "text": [
      "/Users/ericnguyen/opt/anaconda3/envs/cis-3715/lib/python3.10/site-packages/sklearn/neighbors/_base.py:234: EfficiencyWarning: Precomputed sparse input was not sorted by row values. Use the function sklearn.neighbors.sort_graph_by_row_values to sort the input by row values, with warn_when_not_sorted=False to remove this warning.\n",
      "  warnings.warn(\n"
     ]
    },
    {
     "data": {
      "text/plain": [
       "0.3987031195233088"
      ]
     },
     "execution_count": 11,
     "metadata": {},
     "output_type": "execute_result"
    }
   ],
   "source": [
    "pred, neighborhoods = recommendation_system_user_model(minperiods=5,\n",
    "                                                       nneighbors=10,\n",
    "                                                       user_ratings=user_ratings_train)\n",
    "pred = pred.reindex(index=user_ratings_train.index)\n",
    "\n",
    "mae(user_ratings_test, pred)"
   ]
  },
  {
   "cell_type": "markdown",
   "metadata": {},
   "source": [
    "## Task 2. Item-based CF\n",
    "* Use cosine similarity to get the similarity between different items.\n",
    "* Based on the obtained similarity score, predict the ratings. You can use 5 nearest neighbors or 10 nearest neighbors.\n",
    "* Compute MAE for the testing set."
   ]
  },
  {
   "cell_type": "code",
   "execution_count": 12,
   "metadata": {},
   "outputs": [],
   "source": [
    "def itemcf_predict_rating_closure(user_ratings: pd.DataFrame, neighborhoods: pd.DataFrame):\n",
    "    def itemcf_predict_rating_using_nmean(column):\n",
    "        neighbors_titles = neighborhoods.loc[column.name][0]\n",
    "        return round(user_ratings[neighbors_titles].mean(axis=1))\n",
    "\n",
    "    return itemcf_predict_rating_using_nmean\n"
   ]
  },
  {
   "cell_type": "code",
   "execution_count": 13,
   "metadata": {},
   "outputs": [],
   "source": [
    "def itemcf_make_predictions(user_ratings: pd.DataFrame, neighborhoods: int) -> pd.DataFrame:\n",
    "    pred = (user_ratings\n",
    "            .reindex(columns=neighborhoods.index)\n",
    "            .apply(itemcf_predict_rating_closure(user_ratings,\n",
    "                                                 neighborhoods)))\n",
    "\n",
    "    return pred\n"
   ]
  },
  {
   "cell_type": "code",
   "execution_count": 14,
   "metadata": {},
   "outputs": [],
   "source": [
    "def recommendation_system_item_model(minperiods: int, nneighbors: int, user_ratings: pd.DataFrame):\n",
    "    movie_distances = calculate_distances(minperiods, nneighbors, user_ratings.transpose())\n",
    "    model = create_model(nneighbors, metric='cosine')\n",
    "    train_model(model, movie_distances)\n",
    "    similarity, indices = get_kneighbors(model, movie_distances, nneighbors)\n",
    "    neighborhoods = get_neighborhoods(movie_distances, similarity, indices)\n",
    "    pred = itemcf_make_predictions(user_ratings, neighborhoods)\n",
    "    return pred, neighborhoods"
   ]
  },
  {
   "attachments": {},
   "cell_type": "markdown",
   "metadata": {},
   "source": [
    "Calculate MAE on test set using item-based CF with 10 neighbors:"
   ]
  },
  {
   "cell_type": "code",
   "execution_count": 15,
   "metadata": {},
   "outputs": [
    {
     "data": {
      "text/plain": [
       "0.6202493615742827"
      ]
     },
     "execution_count": 15,
     "metadata": {},
     "output_type": "execute_result"
    }
   ],
   "source": [
    "pred, neighborhoods = recommendation_system_item_model(minperiods=10,\n",
    "                                                       nneighbors=10,\n",
    "                                                       user_ratings=user_ratings_train)\n",
    "pred = pred.reindex(index=user_ratings_train.index)\n",
    "\n",
    "mae(user_ratings_test, pred)"
   ]
  },
  {
   "attachments": {},
   "cell_type": "markdown",
   "metadata": {},
   "source": [
    "## Acknowledgements\n",
    "\n",
    "I heavily relied on these notebooks to complete this lab:\n",
    "\n",
    "- https://www.kaggle.com/code/marfritz/user-neighborhood-based-cf\n",
    "- https://www.kaggle.com/code/marfritz/item-neighborhood-based-cf"
   ]
  }
 ],
 "metadata": {
  "kernelspec": {
   "display_name": "Python 3",
   "language": "python",
   "name": "python3"
  },
  "language_info": {
   "codemirror_mode": {
    "name": "ipython",
    "version": 3
   },
   "file_extension": ".py",
   "mimetype": "text/x-python",
   "name": "python",
   "nbconvert_exporter": "python",
   "pygments_lexer": "ipython3",
   "version": "3.10.9"
  }
 },
 "nbformat": 4,
 "nbformat_minor": 2
}
