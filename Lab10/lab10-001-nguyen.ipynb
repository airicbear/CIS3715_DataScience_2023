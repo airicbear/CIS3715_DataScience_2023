{
  "cells": [
    {
      "cell_type": "markdown",
      "metadata": {
        "id": "ev7mKEvgbYcZ"
      },
      "source": [
        "# Lab 10: Fully Connected Neural Networks\n",
        "\n",
        "In this assignment, we will learn fully connected neural network. \n"
      ]
    },
    {
      "cell_type": "markdown",
      "metadata": {
        "id": "vwZwfFQYbYcc"
      },
      "source": [
        "## 1. Example"
      ]
    },
    {
      "cell_type": "markdown",
      "metadata": {
        "id": "WHnoQz3MbYcd"
      },
      "source": [
        "This assignement should be run on Google Colab where you can use free GPU to accelerate the computation. Please refer to our slides to set up GPU. "
      ]
    },
    {
      "cell_type": "markdown",
      "metadata": {
        "id": "u4Rte_TebYce"
      },
      "source": [
        "### 1. Install Pytorch"
      ]
    },
    {
      "cell_type": "code",
      "execution_count": 1,
      "metadata": {
        "colab": {
          "base_uri": "https://localhost:8080/"
        },
        "id": "5YjZrt3dW4SB",
        "outputId": "7a75e2ab-6f8a-4acc-f382-d860f03b2298"
      },
      "outputs": [
        {
          "name": "stdout",
          "output_type": "stream",
          "text": [
            "Looking in indexes: https://pypi.org/simple, https://us-python.pkg.dev/colab-wheels/public/simple/\n",
            "Requirement already satisfied: torch in /usr/local/lib/python3.10/dist-packages (2.0.0+cu118)\n",
            "Requirement already satisfied: torchvision in /usr/local/lib/python3.10/dist-packages (0.15.1+cu118)\n",
            "Requirement already satisfied: triton==2.0.0 in /usr/local/lib/python3.10/dist-packages (from torch) (2.0.0)\n",
            "Requirement already satisfied: networkx in /usr/local/lib/python3.10/dist-packages (from torch) (3.1)\n",
            "Requirement already satisfied: typing-extensions in /usr/local/lib/python3.10/dist-packages (from torch) (4.5.0)\n",
            "Requirement already satisfied: jinja2 in /usr/local/lib/python3.10/dist-packages (from torch) (3.1.2)\n",
            "Requirement already satisfied: sympy in /usr/local/lib/python3.10/dist-packages (from torch) (1.11.1)\n",
            "Requirement already satisfied: filelock in /usr/local/lib/python3.10/dist-packages (from torch) (3.12.0)\n",
            "Requirement already satisfied: lit in /usr/local/lib/python3.10/dist-packages (from triton==2.0.0->torch) (16.0.2)\n",
            "Requirement already satisfied: cmake in /usr/local/lib/python3.10/dist-packages (from triton==2.0.0->torch) (3.25.2)\n",
            "Requirement already satisfied: numpy in /usr/local/lib/python3.10/dist-packages (from torchvision) (1.22.4)\n",
            "Requirement already satisfied: requests in /usr/local/lib/python3.10/dist-packages (from torchvision) (2.27.1)\n",
            "Requirement already satisfied: pillow!=8.3.*,>=5.3.0 in /usr/local/lib/python3.10/dist-packages (from torchvision) (8.4.0)\n",
            "Requirement already satisfied: MarkupSafe>=2.0 in /usr/local/lib/python3.10/dist-packages (from jinja2->torch) (2.1.2)\n",
            "Requirement already satisfied: urllib3<1.27,>=1.21.1 in /usr/local/lib/python3.10/dist-packages (from requests->torchvision) (1.26.15)\n",
            "Requirement already satisfied: certifi>=2017.4.17 in /usr/local/lib/python3.10/dist-packages (from requests->torchvision) (2022.12.7)\n",
            "Requirement already satisfied: charset-normalizer~=2.0.0 in /usr/local/lib/python3.10/dist-packages (from requests->torchvision) (2.0.12)\n",
            "Requirement already satisfied: idna<4,>=2.5 in /usr/local/lib/python3.10/dist-packages (from requests->torchvision) (3.4)\n",
            "Requirement already satisfied: mpmath>=0.19 in /usr/local/lib/python3.10/dist-packages (from sympy->torch) (1.3.0)\n"
          ]
        }
      ],
      "source": [
        "!pip3 install torch torchvision   # install pytorch"
      ]
    },
    {
      "cell_type": "markdown",
      "metadata": {
        "id": "cqu1YdX2bYch"
      },
      "source": [
        "### 2. Check GPU"
      ]
    },
    {
      "cell_type": "code",
      "execution_count": 2,
      "metadata": {
        "colab": {
          "base_uri": "https://localhost:8080/"
        },
        "id": "KH1pKuAAXqzd",
        "outputId": "da9bb4cf-abf2-4c59-e949-17753ed38c9f"
      },
      "outputs": [
        {
          "name": "stdout",
          "output_type": "stream",
          "text": [
            "Sat Apr 29 04:33:03 2023       \n",
            "+-----------------------------------------------------------------------------+\n",
            "| NVIDIA-SMI 525.85.12    Driver Version: 525.85.12    CUDA Version: 12.0     |\n",
            "|-------------------------------+----------------------+----------------------+\n",
            "| GPU  Name        Persistence-M| Bus-Id        Disp.A | Volatile Uncorr. ECC |\n",
            "| Fan  Temp  Perf  Pwr:Usage/Cap|         Memory-Usage | GPU-Util  Compute M. |\n",
            "|                               |                      |               MIG M. |\n",
            "|===============================+======================+======================|\n",
            "|   0  Tesla T4            Off  | 00000000:00:04.0 Off |                    0 |\n",
            "| N/A   48C    P8    12W /  70W |      0MiB / 15360MiB |      0%      Default |\n",
            "|                               |                      |                  N/A |\n",
            "+-------------------------------+----------------------+----------------------+\n",
            "                                                                               \n",
            "+-----------------------------------------------------------------------------+\n",
            "| Processes:                                                                  |\n",
            "|  GPU   GI   CI        PID   Type   Process name                  GPU Memory |\n",
            "|        ID   ID                                                   Usage      |\n",
            "|=============================================================================|\n",
            "|  No running processes found                                                 |\n",
            "+-----------------------------------------------------------------------------+\n"
          ]
        }
      ],
      "source": [
        "!/opt/bin/nvidia-smi  #show GPU "
      ]
    },
    {
      "cell_type": "markdown",
      "metadata": {
        "id": "bqmII1sAbYcj"
      },
      "source": [
        "### 3. Mount to google drive (optional)"
      ]
    },
    {
      "cell_type": "code",
      "execution_count": 3,
      "metadata": {
        "colab": {
          "base_uri": "https://localhost:8080/"
        },
        "id": "HdWuV25Qb-TM",
        "outputId": "cb8b5caf-a2d8-432c-ac57-a31fd10d41bd"
      },
      "outputs": [
        {
          "name": "stdout",
          "output_type": "stream",
          "text": [
            "Mounted at /content/gdrive\n"
          ]
        }
      ],
      "source": [
        "\n",
        "from google.colab import drive\n",
        "drive.mount('/content/gdrive')"
      ]
    },
    {
      "cell_type": "markdown",
      "metadata": {
        "id": "_bAPbFl0bYck"
      },
      "source": [
        "### 4. Code"
      ]
    },
    {
      "cell_type": "code",
      "execution_count": 4,
      "metadata": {
        "id": "-nVVA8yeXv9c"
      },
      "outputs": [],
      "source": [
        "#Import Libraries\n",
        "from __future__ import print_function\n",
        "import argparse\n",
        "import torch\n",
        "import torch.nn as nn\n",
        "import torch.nn.functional as F\n",
        "import torch.optim as optim\n",
        "from torchvision import datasets, transforms\n",
        "from torch.autograd import Variable"
      ]
    },
    {
      "cell_type": "code",
      "execution_count": 5,
      "metadata": {
        "id": "eTnQJNfyhmaE"
      },
      "outputs": [],
      "source": [
        "args={}\n",
        "args['batch_size']=100\n",
        "args['test_batch_size']=100\n",
        "args['epochs']=10  #The number of Epochs is the number of times you go through the full dataset. \n",
        "args['lr']=0.01 #Learning rate is how fast it will decend. \n",
        "args['log_interval']=100"
      ]
    },
    {
      "cell_type": "code",
      "execution_count": 6,
      "metadata": {
        "colab": {
          "base_uri": "https://localhost:8080/"
        },
        "id": "4aMP_CHcX7jJ",
        "outputId": "d718af51-8af8-4145-8acb-1348cbe2122e"
      },
      "outputs": [
        {
          "name": "stdout",
          "output_type": "stream",
          "text": [
            "Net(\n",
            "  (fc1): Linear(in_features=784, out_features=256, bias=True)\n",
            "  (fc2): Linear(in_features=256, out_features=128, bias=True)\n",
            "  (fc3): Linear(in_features=128, out_features=10, bias=True)\n",
            ")\n"
          ]
        }
      ],
      "source": [
        "# build an mlp\n",
        "class Net(nn.Module):\n",
        "    def __init__(self):\n",
        "        super(Net, self).__init__()\n",
        "        \n",
        "        self.fc1 = nn.Linear(28*28, 256)   # linear layer (784 -> 256)\n",
        "        self.fc2 = nn.Linear(256,128)  # linear layer (256 -> 128)\n",
        "        self.fc3 = nn.Linear(128,10)  # linear layer (128 -> 10)\n",
        "\n",
        "    def forward(self, x):\n",
        "        h0 = x.view(-1,28*28) #input layer\n",
        "        h1 = F.relu(self.fc1(h0)) # hidden layer 1\n",
        "        h2 = F.relu(self.fc2(h1)) # hidden layer 2\n",
        "        h3 = self.fc3(h2) # output layer\n",
        "\n",
        "        return h3\n",
        "\n",
        "model = Net()\n",
        "model.cuda() # put the model on GPU\n",
        "print(model)"
      ]
    },
    {
      "cell_type": "code",
      "execution_count": 7,
      "metadata": {
        "id": "0U9yHGoTZi3e"
      },
      "outputs": [],
      "source": [
        "# loss function\n",
        "criterion = nn.CrossEntropyLoss()\n",
        "\n",
        "# optimizer\n",
        "optimizer = torch.optim.SGD(model.parameters(),lr = args['lr'])"
      ]
    },
    {
      "cell_type": "code",
      "execution_count": 8,
      "metadata": {
        "colab": {
          "base_uri": "https://localhost:8080/"
        },
        "id": "YvuVjPqPabRC",
        "outputId": "5b20ddd8-60e5-481a-f301-5de3573ca134"
      },
      "outputs": [
        {
          "name": "stdout",
          "output_type": "stream",
          "text": [
            "Downloading http://yann.lecun.com/exdb/mnist/train-images-idx3-ubyte.gz\n",
            "Downloading http://yann.lecun.com/exdb/mnist/train-images-idx3-ubyte.gz to ./data/MNIST/raw/train-images-idx3-ubyte.gz\n"
          ]
        },
        {
          "name": "stderr",
          "output_type": "stream",
          "text": [
            "100%|██████████| 9912422/9912422 [00:00<00:00, 400536717.19it/s]"
          ]
        },
        {
          "name": "stdout",
          "output_type": "stream",
          "text": [
            "Extracting ./data/MNIST/raw/train-images-idx3-ubyte.gz to ./data/MNIST/raw\n"
          ]
        },
        {
          "name": "stderr",
          "output_type": "stream",
          "text": [
            "\n"
          ]
        },
        {
          "name": "stdout",
          "output_type": "stream",
          "text": [
            "\n",
            "Downloading http://yann.lecun.com/exdb/mnist/train-labels-idx1-ubyte.gz\n",
            "Downloading http://yann.lecun.com/exdb/mnist/train-labels-idx1-ubyte.gz to ./data/MNIST/raw/train-labels-idx1-ubyte.gz\n"
          ]
        },
        {
          "name": "stderr",
          "output_type": "stream",
          "text": [
            "100%|██████████| 28881/28881 [00:00<00:00, 14051234.64it/s]\n"
          ]
        },
        {
          "name": "stdout",
          "output_type": "stream",
          "text": [
            "Extracting ./data/MNIST/raw/train-labels-idx1-ubyte.gz to ./data/MNIST/raw\n",
            "\n",
            "Downloading http://yann.lecun.com/exdb/mnist/t10k-images-idx3-ubyte.gz\n",
            "Downloading http://yann.lecun.com/exdb/mnist/t10k-images-idx3-ubyte.gz to ./data/MNIST/raw/t10k-images-idx3-ubyte.gz\n"
          ]
        },
        {
          "name": "stderr",
          "output_type": "stream",
          "text": [
            "100%|██████████| 1648877/1648877 [00:00<00:00, 167325350.74it/s]\n"
          ]
        },
        {
          "name": "stdout",
          "output_type": "stream",
          "text": [
            "Extracting ./data/MNIST/raw/t10k-images-idx3-ubyte.gz to ./data/MNIST/raw\n",
            "\n",
            "Downloading http://yann.lecun.com/exdb/mnist/t10k-labels-idx1-ubyte.gz\n",
            "Downloading http://yann.lecun.com/exdb/mnist/t10k-labels-idx1-ubyte.gz to ./data/MNIST/raw/t10k-labels-idx1-ubyte.gz\n"
          ]
        },
        {
          "name": "stderr",
          "output_type": "stream",
          "text": [
            "100%|██████████| 4542/4542 [00:00<00:00, 2025574.56it/s]"
          ]
        },
        {
          "name": "stdout",
          "output_type": "stream",
          "text": [
            "Extracting ./data/MNIST/raw/t10k-labels-idx1-ubyte.gz to ./data/MNIST/raw\n",
            "\n"
          ]
        },
        {
          "name": "stderr",
          "output_type": "stream",
          "text": [
            "\n"
          ]
        }
      ],
      "source": [
        "#load the data\n",
        "train_loader = torch.utils.data.DataLoader(\n",
        "    datasets.MNIST('./data', train=True, download=True,\n",
        "                   transform=transforms.Compose([\n",
        "                       transforms.ToTensor(),\n",
        "                       transforms.Normalize((0.1307,), (0.3081,))\n",
        "                   ])),\n",
        "    batch_size=args['batch_size'], shuffle=True)\n",
        "test_loader = torch.utils.data.DataLoader(\n",
        "    datasets.MNIST('./data', train=False, transform=transforms.Compose([\n",
        "                       transforms.ToTensor(),\n",
        "                       transforms.Normalize((0.1307,), (0.3081,))\n",
        "                   ])),\n",
        "    batch_size=args['test_batch_size'], shuffle=False)"
      ]
    },
    {
      "cell_type": "code",
      "execution_count": 9,
      "metadata": {
        "id": "YopP0oK5ca2u"
      },
      "outputs": [],
      "source": [
        "def train(epoch):\n",
        "    model.train()\n",
        "    for batch_idx, (data, target) in enumerate(train_loader):\n",
        "        data, target = data.cuda(), target.cuda()\n",
        "        \n",
        "        output = model(data)\n",
        "        loss = criterion(output, target)\n",
        "\n",
        "        # compute gradients\n",
        "        optimizer.zero_grad()\n",
        "        loss.backward()\n",
        "\n",
        "        #to do a one-step update on our parameter.\n",
        "        optimizer.step()\n",
        "\n",
        "        #Print out the loss periodically. \n",
        "        if batch_idx % args['log_interval'] == 0:\n",
        "            print('Train Epoch: {} [{}/{} ({:.0f}%)]\\tLoss: {:.6f}'.format(\n",
        "                epoch, batch_idx * len(data), len(train_loader.dataset),\n",
        "                100. * batch_idx / len(train_loader), loss.item()))"
      ]
    },
    {
      "cell_type": "code",
      "execution_count": 10,
      "metadata": {
        "id": "wLn-uP_sct-a"
      },
      "outputs": [],
      "source": [
        "def test():\n",
        "    model.eval()\n",
        "    test_loss = 0\n",
        "    correct = 0\n",
        "    for data, target in test_loader:\n",
        "        data, target = data.cuda(), target.cuda()\n",
        "\n",
        "        output = model(data)\n",
        "        test_loss += criterion(output, target).item() # sum up batch loss\n",
        "        pred = output.data.max(1, keepdim=True)[1] \n",
        "        correct += pred.eq(target.data.view_as(pred)).long().cpu().sum()\n",
        "\n",
        "    test_loss /= len(test_loader.dataset)\n",
        "\n",
        "    print('\\nTest set: Average loss: {:.4f}, Accuracy: {}/{} ({:.0f}%)\\n'.format(\n",
        "        test_loss, correct, len(test_loader.dataset),\n",
        "        100. * correct / len(test_loader.dataset)))\n"
      ]
    },
    {
      "cell_type": "code",
      "execution_count": 11,
      "metadata": {
        "colab": {
          "base_uri": "https://localhost:8080/"
        },
        "id": "FgF4zxVlc28U",
        "outputId": "e33b2ea5-bc74-4618-e178-fba3933b81bd"
      },
      "outputs": [
        {
          "name": "stdout",
          "output_type": "stream",
          "text": [
            "Train Epoch: 1 [0/60000 (0%)]\tLoss: 2.327785\n",
            "Train Epoch: 1 [10000/60000 (17%)]\tLoss: 1.897645\n",
            "Train Epoch: 1 [20000/60000 (33%)]\tLoss: 1.138422\n",
            "Train Epoch: 1 [30000/60000 (50%)]\tLoss: 0.744170\n",
            "Train Epoch: 1 [40000/60000 (67%)]\tLoss: 0.562380\n",
            "Train Epoch: 1 [50000/60000 (83%)]\tLoss: 0.456244\n",
            "\n",
            "Test set: Average loss: 0.0041, Accuracy: 8902/10000 (89%)\n",
            "\n",
            "Train Epoch: 2 [0/60000 (0%)]\tLoss: 0.352092\n",
            "Train Epoch: 2 [10000/60000 (17%)]\tLoss: 0.377618\n",
            "Train Epoch: 2 [20000/60000 (33%)]\tLoss: 0.397309\n",
            "Train Epoch: 2 [30000/60000 (50%)]\tLoss: 0.373175\n",
            "Train Epoch: 2 [40000/60000 (67%)]\tLoss: 0.446195\n",
            "Train Epoch: 2 [50000/60000 (83%)]\tLoss: 0.354354\n",
            "\n",
            "Test set: Average loss: 0.0030, Accuracy: 9133/10000 (91%)\n",
            "\n",
            "Train Epoch: 3 [0/60000 (0%)]\tLoss: 0.339862\n",
            "Train Epoch: 3 [10000/60000 (17%)]\tLoss: 0.230855\n",
            "Train Epoch: 3 [20000/60000 (33%)]\tLoss: 0.274903\n",
            "Train Epoch: 3 [30000/60000 (50%)]\tLoss: 0.421262\n",
            "Train Epoch: 3 [40000/60000 (67%)]\tLoss: 0.225185\n",
            "Train Epoch: 3 [50000/60000 (83%)]\tLoss: 0.274632\n",
            "\n",
            "Test set: Average loss: 0.0027, Accuracy: 9234/10000 (92%)\n",
            "\n",
            "Train Epoch: 4 [0/60000 (0%)]\tLoss: 0.265996\n",
            "Train Epoch: 4 [10000/60000 (17%)]\tLoss: 0.367443\n",
            "Train Epoch: 4 [20000/60000 (33%)]\tLoss: 0.442334\n",
            "Train Epoch: 4 [30000/60000 (50%)]\tLoss: 0.239502\n",
            "Train Epoch: 4 [40000/60000 (67%)]\tLoss: 0.155593\n",
            "Train Epoch: 4 [50000/60000 (83%)]\tLoss: 0.109021\n",
            "\n",
            "Test set: Average loss: 0.0024, Accuracy: 9327/10000 (93%)\n",
            "\n",
            "Train Epoch: 5 [0/60000 (0%)]\tLoss: 0.290959\n",
            "Train Epoch: 5 [10000/60000 (17%)]\tLoss: 0.305185\n",
            "Train Epoch: 5 [20000/60000 (33%)]\tLoss: 0.158472\n",
            "Train Epoch: 5 [30000/60000 (50%)]\tLoss: 0.254867\n",
            "Train Epoch: 5 [40000/60000 (67%)]\tLoss: 0.237810\n",
            "Train Epoch: 5 [50000/60000 (83%)]\tLoss: 0.130919\n",
            "\n",
            "Test set: Average loss: 0.0022, Accuracy: 9367/10000 (94%)\n",
            "\n",
            "Train Epoch: 6 [0/60000 (0%)]\tLoss: 0.222018\n",
            "Train Epoch: 6 [10000/60000 (17%)]\tLoss: 0.201744\n",
            "Train Epoch: 6 [20000/60000 (33%)]\tLoss: 0.241530\n",
            "Train Epoch: 6 [30000/60000 (50%)]\tLoss: 0.188763\n",
            "Train Epoch: 6 [40000/60000 (67%)]\tLoss: 0.150257\n",
            "Train Epoch: 6 [50000/60000 (83%)]\tLoss: 0.141296\n",
            "\n",
            "Test set: Average loss: 0.0020, Accuracy: 9426/10000 (94%)\n",
            "\n",
            "Train Epoch: 7 [0/60000 (0%)]\tLoss: 0.093495\n",
            "Train Epoch: 7 [10000/60000 (17%)]\tLoss: 0.135690\n",
            "Train Epoch: 7 [20000/60000 (33%)]\tLoss: 0.151289\n",
            "Train Epoch: 7 [30000/60000 (50%)]\tLoss: 0.260352\n",
            "Train Epoch: 7 [40000/60000 (67%)]\tLoss: 0.167249\n",
            "Train Epoch: 7 [50000/60000 (83%)]\tLoss: 0.140890\n",
            "\n",
            "Test set: Average loss: 0.0018, Accuracy: 9465/10000 (95%)\n",
            "\n",
            "Train Epoch: 8 [0/60000 (0%)]\tLoss: 0.201458\n",
            "Train Epoch: 8 [10000/60000 (17%)]\tLoss: 0.215730\n",
            "Train Epoch: 8 [20000/60000 (33%)]\tLoss: 0.239866\n",
            "Train Epoch: 8 [30000/60000 (50%)]\tLoss: 0.170962\n",
            "Train Epoch: 8 [40000/60000 (67%)]\tLoss: 0.110157\n",
            "Train Epoch: 8 [50000/60000 (83%)]\tLoss: 0.166516\n",
            "\n",
            "Test set: Average loss: 0.0017, Accuracy: 9502/10000 (95%)\n",
            "\n",
            "Train Epoch: 9 [0/60000 (0%)]\tLoss: 0.161012\n",
            "Train Epoch: 9 [10000/60000 (17%)]\tLoss: 0.116508\n",
            "Train Epoch: 9 [20000/60000 (33%)]\tLoss: 0.135771\n",
            "Train Epoch: 9 [30000/60000 (50%)]\tLoss: 0.150484\n",
            "Train Epoch: 9 [40000/60000 (67%)]\tLoss: 0.195153\n",
            "Train Epoch: 9 [50000/60000 (83%)]\tLoss: 0.176349\n",
            "\n",
            "Test set: Average loss: 0.0016, Accuracy: 9522/10000 (95%)\n",
            "\n",
            "Train Epoch: 10 [0/60000 (0%)]\tLoss: 0.219148\n",
            "Train Epoch: 10 [10000/60000 (17%)]\tLoss: 0.159392\n",
            "Train Epoch: 10 [20000/60000 (33%)]\tLoss: 0.131733\n",
            "Train Epoch: 10 [30000/60000 (50%)]\tLoss: 0.231475\n",
            "Train Epoch: 10 [40000/60000 (67%)]\tLoss: 0.409934\n",
            "Train Epoch: 10 [50000/60000 (83%)]\tLoss: 0.090592\n",
            "\n",
            "Test set: Average loss: 0.0015, Accuracy: 9557/10000 (96%)\n",
            "\n"
          ]
        }
      ],
      "source": [
        "for epoch in range(1, args['epochs'] + 1):\n",
        "    train(epoch)\n",
        "    test()\n"
      ]
    },
    {
      "cell_type": "markdown",
      "metadata": {
        "id": "1OipUVawbYcr"
      },
      "source": [
        "## 2. Tasks"
      ]
    },
    {
      "cell_type": "markdown",
      "metadata": {
        "id": "GA50s29XbYcs"
      },
      "source": [
        "### 1. Please use other activation functions, e.g., sigmoid, tanh, and then plot the training loss and testing accuracy. \n",
        "\n",
        "When plotting the training loss, the x-axis is iteration and the y-axis is training loss. When plotting the testing accuracy,  the x-axis is epoch and the y-axis is the training loss."
      ]
    },
    {
      "cell_type": "markdown",
      "metadata": {
        "id": "wJKsS9iw75IT"
      },
      "source": [
        "Sigmoid:"
      ]
    },
    {
      "cell_type": "code",
      "execution_count": 26,
      "metadata": {
        "colab": {
          "base_uri": "https://localhost:8080/"
        },
        "id": "SCUF04MYbYcs",
        "outputId": "49d5d3d0-d14d-4394-afbb-2705ad8020da"
      },
      "outputs": [
        {
          "name": "stdout",
          "output_type": "stream",
          "text": [
            "NetSigmoid(\n",
            "  (fc1): Linear(in_features=784, out_features=256, bias=True)\n",
            "  (fc2): Linear(in_features=256, out_features=128, bias=True)\n",
            "  (fc3): Linear(in_features=128, out_features=10, bias=True)\n",
            ")\n"
          ]
        }
      ],
      "source": [
        "# build an mlp\n",
        "class NetSigmoid(nn.Module):\n",
        "    def __init__(self):\n",
        "        super(NetSigmoid, self).__init__()\n",
        "        \n",
        "        self.fc1 = nn.Linear(28*28, 256)   # linear layer (784 -> 256)\n",
        "        self.fc2 = nn.Linear(256,128)  # linear layer (256 -> 128)\n",
        "        self.fc3 = nn.Linear(128,10)  # linear layer (128 -> 10)\n",
        "\n",
        "    def forward(self, x):\n",
        "        h0 = x.view(-1,28*28) #input layer\n",
        "        h1 = F.sigmoid(self.fc1(h0)) # hidden layer 1\n",
        "        h2 = F.sigmoid(self.fc2(h1)) # hidden layer 2\n",
        "        h3 = self.fc3(h2) # output layer\n",
        "\n",
        "        return h3\n",
        "\n",
        "model_sigmoid = NetSigmoid()\n",
        "model_sigmoid.cuda() # put the model on GPU\n",
        "print(model_sigmoid)"
      ]
    },
    {
      "cell_type": "code",
      "execution_count": 27,
      "metadata": {
        "id": "HVmL0-ikT7v6"
      },
      "outputs": [],
      "source": [
        "# loss function\n",
        "criterion_sigmoid = nn.CrossEntropyLoss()\n",
        "\n",
        "# optimizer\n",
        "optimizer_sigmoid = torch.optim.SGD(model_sigmoid.parameters(),lr = args['lr'])"
      ]
    },
    {
      "cell_type": "code",
      "execution_count": 28,
      "metadata": {
        "id": "rXGPEjJKzdTs"
      },
      "outputs": [],
      "source": [
        "def train_sigmoid(epoch):\n",
        "    model_sigmoid.train()\n",
        "    loss = 0\n",
        "    for batch_idx, (data, target) in enumerate(train_loader):\n",
        "        data, target = data.cuda(), target.cuda()\n",
        "        \n",
        "        output = model_sigmoid(data)\n",
        "        loss = criterion_sigmoid(output, target)\n",
        "\n",
        "        # compute gradients\n",
        "        optimizer_sigmoid.zero_grad()\n",
        "        loss.backward()\n",
        "\n",
        "        #to do a one-step update on our parameter.\n",
        "        optimizer_sigmoid.step()\n",
        "\n",
        "        #Print out the loss periodically. \n",
        "        if batch_idx % args['log_interval'] == 0:\n",
        "            print('Train Epoch: {} [{}/{} ({:.0f}%)]\\tLoss: {:.6f}'.format(\n",
        "                epoch, batch_idx * len(data), len(train_loader.dataset),\n",
        "                100. * batch_idx / len(train_loader), loss.item()))\n",
        "    return loss.item()"
      ]
    },
    {
      "cell_type": "code",
      "execution_count": 29,
      "metadata": {
        "id": "PBRKIMs82fIz"
      },
      "outputs": [],
      "source": [
        "def test_sigmoid():\n",
        "    model_sigmoid.eval()\n",
        "    test_loss = 0\n",
        "    correct = 0\n",
        "    for data, target in test_loader:\n",
        "        data, target = data.cuda(), target.cuda()\n",
        "\n",
        "        output = model_sigmoid(data)\n",
        "        test_loss += criterion_sigmoid(output, target).item() # sum up batch loss\n",
        "        pred = output.data.max(1, keepdim=True)[1] \n",
        "        correct += pred.eq(target.data.view_as(pred)).long().cpu().sum()\n",
        "\n",
        "    test_loss /= len(test_loader.dataset)\n",
        "\n",
        "    print('\\nTest set: Average loss: {:.4f}, Accuracy: {}/{} ({:.0f}%)\\n'.format(\n",
        "        test_loss, correct, len(test_loader.dataset),\n",
        "        100. * correct / len(test_loader.dataset)))\n",
        "    \n",
        "    return 100. * correct / len(test_loader.dataset)"
      ]
    },
    {
      "cell_type": "code",
      "execution_count": 30,
      "metadata": {
        "colab": {
          "base_uri": "https://localhost:8080/"
        },
        "id": "bRrvd82EzQkM",
        "outputId": "32ed8592-c92e-43c4-9e59-d04b0593e399"
      },
      "outputs": [
        {
          "name": "stdout",
          "output_type": "stream",
          "text": [
            "Train Epoch: 1 [0/60000 (0%)]\tLoss: 2.330715\n",
            "Train Epoch: 1 [10000/60000 (17%)]\tLoss: 2.286858\n",
            "Train Epoch: 1 [20000/60000 (33%)]\tLoss: 2.286228\n",
            "Train Epoch: 1 [30000/60000 (50%)]\tLoss: 2.292001\n",
            "Train Epoch: 1 [40000/60000 (67%)]\tLoss: 2.282097\n",
            "Train Epoch: 1 [50000/60000 (83%)]\tLoss: 2.277742\n",
            "\n",
            "Test set: Average loss: 0.0226, Accuracy: 1571/10000 (16%)\n",
            "\n",
            "Train Epoch: 2 [0/60000 (0%)]\tLoss: 2.264272\n",
            "Train Epoch: 2 [10000/60000 (17%)]\tLoss: 2.253796\n",
            "Train Epoch: 2 [20000/60000 (33%)]\tLoss: 2.238876\n",
            "Train Epoch: 2 [30000/60000 (50%)]\tLoss: 2.233855\n",
            "Train Epoch: 2 [40000/60000 (67%)]\tLoss: 2.193068\n",
            "Train Epoch: 2 [50000/60000 (83%)]\tLoss: 2.199981\n",
            "\n",
            "Test set: Average loss: 0.0217, Accuracy: 4096/10000 (41%)\n",
            "\n",
            "Train Epoch: 3 [0/60000 (0%)]\tLoss: 2.182087\n",
            "Train Epoch: 3 [10000/60000 (17%)]\tLoss: 2.165404\n",
            "Train Epoch: 3 [20000/60000 (33%)]\tLoss: 2.152994\n",
            "Train Epoch: 3 [30000/60000 (50%)]\tLoss: 2.123628\n",
            "Train Epoch: 3 [40000/60000 (67%)]\tLoss: 2.048989\n",
            "Train Epoch: 3 [50000/60000 (83%)]\tLoss: 1.999623\n",
            "\n",
            "Test set: Average loss: 0.0194, Accuracy: 5547/10000 (55%)\n",
            "\n",
            "Train Epoch: 4 [0/60000 (0%)]\tLoss: 1.913000\n",
            "Train Epoch: 4 [10000/60000 (17%)]\tLoss: 1.838104\n",
            "Train Epoch: 4 [20000/60000 (33%)]\tLoss: 1.745574\n",
            "Train Epoch: 4 [30000/60000 (50%)]\tLoss: 1.778568\n",
            "Train Epoch: 4 [40000/60000 (67%)]\tLoss: 1.643157\n",
            "Train Epoch: 4 [50000/60000 (83%)]\tLoss: 1.694265\n",
            "\n",
            "Test set: Average loss: 0.0153, Accuracy: 6117/10000 (61%)\n",
            "\n",
            "Train Epoch: 5 [0/60000 (0%)]\tLoss: 1.566222\n",
            "Train Epoch: 5 [10000/60000 (17%)]\tLoss: 1.468614\n",
            "Train Epoch: 5 [20000/60000 (33%)]\tLoss: 1.431011\n",
            "Train Epoch: 5 [30000/60000 (50%)]\tLoss: 1.332669\n",
            "Train Epoch: 5 [40000/60000 (67%)]\tLoss: 1.283999\n",
            "Train Epoch: 5 [50000/60000 (83%)]\tLoss: 1.207864\n",
            "\n",
            "Test set: Average loss: 0.0121, Accuracy: 6750/10000 (68%)\n",
            "\n",
            "Train Epoch: 6 [0/60000 (0%)]\tLoss: 1.160461\n",
            "Train Epoch: 6 [10000/60000 (17%)]\tLoss: 1.221089\n",
            "Train Epoch: 6 [20000/60000 (33%)]\tLoss: 1.146021\n",
            "Train Epoch: 6 [30000/60000 (50%)]\tLoss: 1.079965\n",
            "Train Epoch: 6 [40000/60000 (67%)]\tLoss: 1.049727\n",
            "Train Epoch: 6 [50000/60000 (83%)]\tLoss: 1.041484\n",
            "\n",
            "Test set: Average loss: 0.0098, Accuracy: 7728/10000 (77%)\n",
            "\n",
            "Train Epoch: 7 [0/60000 (0%)]\tLoss: 1.017795\n",
            "Train Epoch: 7 [10000/60000 (17%)]\tLoss: 1.006818\n",
            "Train Epoch: 7 [20000/60000 (33%)]\tLoss: 0.949883\n",
            "Train Epoch: 7 [30000/60000 (50%)]\tLoss: 0.918285\n",
            "Train Epoch: 7 [40000/60000 (67%)]\tLoss: 0.846494\n",
            "Train Epoch: 7 [50000/60000 (83%)]\tLoss: 0.909600\n",
            "\n",
            "Test set: Average loss: 0.0082, Accuracy: 7999/10000 (80%)\n",
            "\n",
            "Train Epoch: 8 [0/60000 (0%)]\tLoss: 0.804008\n",
            "Train Epoch: 8 [10000/60000 (17%)]\tLoss: 0.806032\n",
            "Train Epoch: 8 [20000/60000 (33%)]\tLoss: 0.787552\n",
            "Train Epoch: 8 [30000/60000 (50%)]\tLoss: 0.753507\n",
            "Train Epoch: 8 [40000/60000 (67%)]\tLoss: 0.744344\n",
            "Train Epoch: 8 [50000/60000 (83%)]\tLoss: 0.668428\n",
            "\n",
            "Test set: Average loss: 0.0071, Accuracy: 8272/10000 (83%)\n",
            "\n",
            "Train Epoch: 9 [0/60000 (0%)]\tLoss: 0.804637\n",
            "Train Epoch: 9 [10000/60000 (17%)]\tLoss: 0.650215\n",
            "Train Epoch: 9 [20000/60000 (33%)]\tLoss: 0.568204\n",
            "Train Epoch: 9 [30000/60000 (50%)]\tLoss: 0.723714\n",
            "Train Epoch: 9 [40000/60000 (67%)]\tLoss: 0.636347\n",
            "Train Epoch: 9 [50000/60000 (83%)]\tLoss: 0.678936\n",
            "\n",
            "Test set: Average loss: 0.0062, Accuracy: 8413/10000 (84%)\n",
            "\n",
            "Train Epoch: 10 [0/60000 (0%)]\tLoss: 0.639998\n",
            "Train Epoch: 10 [10000/60000 (17%)]\tLoss: 0.542725\n",
            "Train Epoch: 10 [20000/60000 (33%)]\tLoss: 0.509359\n",
            "Train Epoch: 10 [30000/60000 (50%)]\tLoss: 0.571412\n",
            "Train Epoch: 10 [40000/60000 (67%)]\tLoss: 0.663434\n",
            "Train Epoch: 10 [50000/60000 (83%)]\tLoss: 0.625031\n",
            "\n",
            "Test set: Average loss: 0.0056, Accuracy: 8553/10000 (86%)\n",
            "\n"
          ]
        }
      ],
      "source": [
        "losses_sigmoid = []\n",
        "accuracy_list_sigmoid = []\n",
        "\n",
        "for epoch in range(1, args['epochs'] + 1):\n",
        "    loss = train_sigmoid(epoch)\n",
        "    accuracy = test_sigmoid()\n",
        "\n",
        "    losses_sigmoid.append(loss)\n",
        "    accuracy_list_sigmoid.append(accuracy)"
      ]
    },
    {
      "cell_type": "code",
      "execution_count": 32,
      "metadata": {
        "colab": {
          "base_uri": "https://localhost:8080/",
          "height": 472
        },
        "id": "tuR81xvN3wMx",
        "outputId": "c5ec981f-622f-418a-cf90-3dbf3d176b69"
      },
      "outputs": [
        {
          "data": {
            "image/png": "[encoded data removed]",
            "text/plain": [
              "<Figure size 640x480 with 1 Axes>"
            ]
          },
          "metadata": {},
          "output_type": "display_data"
        }
      ],
      "source": [
        "import matplotlib.pyplot as plt\n",
        "\n",
        "plt.title('Sigmoid Loss/Accuracy vs. Epochs')\n",
        "plt.xlabel('Epochs')\n",
        "plt.plot([loss for loss in losses_sigmoid], label='Loss')\n",
        "plt.plot([acc.item() / 100 for acc in accuracy_list_sigmoid], label='Accuracy')\n",
        "plt.legend()\n",
        "plt.show()"
      ]
    },
    {
      "cell_type": "markdown",
      "metadata": {
        "id": "_L10MMnsK6iq"
      },
      "source": [
        "Tanh:"
      ]
    },
    {
      "cell_type": "code",
      "execution_count": 34,
      "metadata": {
        "colab": {
          "base_uri": "https://localhost:8080/"
        },
        "id": "-UuGHU-4vtnn",
        "outputId": "e158dba3-6420-4952-9344-660eeaae7300"
      },
      "outputs": [
        {
          "name": "stdout",
          "output_type": "stream",
          "text": [
            "NetTanh(\n",
            "  (fc1): Linear(in_features=784, out_features=256, bias=True)\n",
            "  (fc2): Linear(in_features=256, out_features=128, bias=True)\n",
            "  (fc3): Linear(in_features=128, out_features=10, bias=True)\n",
            ")\n"
          ]
        }
      ],
      "source": [
        "# build an mlp\n",
        "class NetTanh(nn.Module):\n",
        "    def __init__(self):\n",
        "        super(NetTanh, self).__init__()\n",
        "        \n",
        "        self.fc1 = nn.Linear(28*28, 256)   # linear layer (784 -> 256)\n",
        "        self.fc2 = nn.Linear(256,128)  # linear layer (256 -> 128)\n",
        "        self.fc3 = nn.Linear(128,10)  # linear layer (128 -> 10)\n",
        "\n",
        "    def forward(self, x):\n",
        "        h0 = x.view(-1,28*28) #input layer\n",
        "        h1 = F.tanh(self.fc1(h0)) # hidden layer 1\n",
        "        h2 = F.tanh(self.fc2(h1)) # hidden layer 2\n",
        "        h3 = self.fc3(h2) # output layer\n",
        "\n",
        "        return h3\n",
        "\n",
        "model_tanh = NetTanh()\n",
        "model_tanh.cuda() # put the model on GPU\n",
        "print(model_tanh)"
      ]
    },
    {
      "cell_type": "code",
      "execution_count": 35,
      "metadata": {
        "id": "WE7g_1ZcVxKn"
      },
      "outputs": [],
      "source": [
        "# loss function\n",
        "criterion_tanh = nn.CrossEntropyLoss()\n",
        "\n",
        "# optimizer\n",
        "optimizer_tanh = torch.optim.SGD(model_tanh.parameters(),lr = args['lr'])"
      ]
    },
    {
      "cell_type": "code",
      "execution_count": 36,
      "metadata": {
        "id": "uGpx2n98vzQ-"
      },
      "outputs": [],
      "source": [
        "def train_tanh(epoch):\n",
        "    model_tanh.train()\n",
        "    loss = 0\n",
        "    for batch_idx, (data, target) in enumerate(train_loader):\n",
        "        data, target = data.cuda(), target.cuda()\n",
        "        \n",
        "        output = model_tanh(data)\n",
        "        loss = criterion_tanh(output, target)\n",
        "\n",
        "        # compute gradients\n",
        "        optimizer_tanh.zero_grad()\n",
        "        loss.backward()\n",
        "\n",
        "        #to do a one-step update on our parameter.\n",
        "        optimizer_tanh.step()\n",
        "\n",
        "        #Print out the loss periodically. \n",
        "        if batch_idx % args['log_interval'] == 0:\n",
        "            print('Train Epoch: {} [{}/{} ({:.0f}%)]\\tLoss: {:.6f}'.format(\n",
        "                epoch, batch_idx * len(data), len(train_loader.dataset),\n",
        "                100. * batch_idx / len(train_loader), loss.item()))\n",
        "    return loss.item()"
      ]
    },
    {
      "cell_type": "code",
      "execution_count": 37,
      "metadata": {
        "id": "vfXwDsJHv0nO"
      },
      "outputs": [],
      "source": [
        "def test_tanh():\n",
        "    model_tanh.eval()\n",
        "    test_loss = 0\n",
        "    correct = 0\n",
        "    for data, target in test_loader:\n",
        "        data, target = data.cuda(), target.cuda()\n",
        "\n",
        "        output = model_tanh(data)\n",
        "        test_loss += criterion_tanh(output, target).item() # sum up batch loss\n",
        "        pred = output.data.max(1, keepdim=True)[1] \n",
        "        correct += pred.eq(target.data.view_as(pred)).long().cpu().sum()\n",
        "\n",
        "    test_loss /= len(test_loader.dataset)\n",
        "\n",
        "    print('\\nTest set: Average loss: {:.4f}, Accuracy: {}/{} ({:.0f}%)\\n'.format(\n",
        "        test_loss, correct, len(test_loader.dataset),\n",
        "        100. * correct / len(test_loader.dataset)))\n",
        "    \n",
        "    return 100. * correct / len(test_loader.dataset)"
      ]
    },
    {
      "cell_type": "code",
      "execution_count": 38,
      "metadata": {
        "colab": {
          "base_uri": "https://localhost:8080/"
        },
        "id": "y6KEu7-_v4Gv",
        "outputId": "be0b1061-08f6-43c2-f5d4-54052b2d0ed9"
      },
      "outputs": [
        {
          "name": "stdout",
          "output_type": "stream",
          "text": [
            "Train Epoch: 1 [0/60000 (0%)]\tLoss: 2.314583\n",
            "Train Epoch: 1 [10000/60000 (17%)]\tLoss: 1.469591\n",
            "Train Epoch: 1 [20000/60000 (33%)]\tLoss: 0.925936\n",
            "Train Epoch: 1 [30000/60000 (50%)]\tLoss: 0.780192\n",
            "Train Epoch: 1 [40000/60000 (67%)]\tLoss: 0.678566\n",
            "Train Epoch: 1 [50000/60000 (83%)]\tLoss: 0.628849\n",
            "\n",
            "Test set: Average loss: 0.0045, Accuracy: 8919/10000 (89%)\n",
            "\n",
            "Train Epoch: 2 [0/60000 (0%)]\tLoss: 0.514593\n",
            "Train Epoch: 2 [10000/60000 (17%)]\tLoss: 0.355954\n",
            "Train Epoch: 2 [20000/60000 (33%)]\tLoss: 0.230998\n",
            "Train Epoch: 2 [30000/60000 (50%)]\tLoss: 0.395193\n",
            "Train Epoch: 2 [40000/60000 (67%)]\tLoss: 0.353329\n",
            "Train Epoch: 2 [50000/60000 (83%)]\tLoss: 0.415220\n",
            "\n",
            "Test set: Average loss: 0.0033, Accuracy: 9112/10000 (91%)\n",
            "\n",
            "Train Epoch: 3 [0/60000 (0%)]\tLoss: 0.337340\n",
            "Train Epoch: 3 [10000/60000 (17%)]\tLoss: 0.297910\n",
            "Train Epoch: 3 [20000/60000 (33%)]\tLoss: 0.285969\n",
            "Train Epoch: 3 [30000/60000 (50%)]\tLoss: 0.253803\n",
            "Train Epoch: 3 [40000/60000 (67%)]\tLoss: 0.326085\n",
            "Train Epoch: 3 [50000/60000 (83%)]\tLoss: 0.353732\n",
            "\n",
            "Test set: Average loss: 0.0029, Accuracy: 9209/10000 (92%)\n",
            "\n",
            "Train Epoch: 4 [0/60000 (0%)]\tLoss: 0.286912\n",
            "Train Epoch: 4 [10000/60000 (17%)]\tLoss: 0.345299\n",
            "Train Epoch: 4 [20000/60000 (33%)]\tLoss: 0.344703\n",
            "Train Epoch: 4 [30000/60000 (50%)]\tLoss: 0.378712\n",
            "Train Epoch: 4 [40000/60000 (67%)]\tLoss: 0.141810\n",
            "Train Epoch: 4 [50000/60000 (83%)]\tLoss: 0.248611\n",
            "\n",
            "Test set: Average loss: 0.0026, Accuracy: 9260/10000 (93%)\n",
            "\n",
            "Train Epoch: 5 [0/60000 (0%)]\tLoss: 0.385085\n",
            "Train Epoch: 5 [10000/60000 (17%)]\tLoss: 0.312673\n",
            "Train Epoch: 5 [20000/60000 (33%)]\tLoss: 0.226444\n",
            "Train Epoch: 5 [30000/60000 (50%)]\tLoss: 0.152507\n",
            "Train Epoch: 5 [40000/60000 (67%)]\tLoss: 0.326723\n",
            "Train Epoch: 5 [50000/60000 (83%)]\tLoss: 0.290176\n",
            "\n",
            "Test set: Average loss: 0.0024, Accuracy: 9319/10000 (93%)\n",
            "\n",
            "Train Epoch: 6 [0/60000 (0%)]\tLoss: 0.292568\n",
            "Train Epoch: 6 [10000/60000 (17%)]\tLoss: 0.158078\n",
            "Train Epoch: 6 [20000/60000 (33%)]\tLoss: 0.269247\n",
            "Train Epoch: 6 [30000/60000 (50%)]\tLoss: 0.247631\n",
            "Train Epoch: 6 [40000/60000 (67%)]\tLoss: 0.167573\n",
            "Train Epoch: 6 [50000/60000 (83%)]\tLoss: 0.252936\n",
            "\n",
            "Test set: Average loss: 0.0023, Accuracy: 9363/10000 (94%)\n",
            "\n",
            "Train Epoch: 7 [0/60000 (0%)]\tLoss: 0.271888\n",
            "Train Epoch: 7 [10000/60000 (17%)]\tLoss: 0.284022\n",
            "Train Epoch: 7 [20000/60000 (33%)]\tLoss: 0.299077\n",
            "Train Epoch: 7 [30000/60000 (50%)]\tLoss: 0.254974\n",
            "Train Epoch: 7 [40000/60000 (67%)]\tLoss: 0.204241\n",
            "Train Epoch: 7 [50000/60000 (83%)]\tLoss: 0.195878\n",
            "\n",
            "Test set: Average loss: 0.0021, Accuracy: 9400/10000 (94%)\n",
            "\n",
            "Train Epoch: 8 [0/60000 (0%)]\tLoss: 0.209157\n",
            "Train Epoch: 8 [10000/60000 (17%)]\tLoss: 0.224012\n",
            "Train Epoch: 8 [20000/60000 (33%)]\tLoss: 0.184614\n",
            "Train Epoch: 8 [30000/60000 (50%)]\tLoss: 0.232037\n",
            "Train Epoch: 8 [40000/60000 (67%)]\tLoss: 0.212876\n",
            "Train Epoch: 8 [50000/60000 (83%)]\tLoss: 0.205512\n",
            "\n",
            "Test set: Average loss: 0.0020, Accuracy: 9433/10000 (94%)\n",
            "\n",
            "Train Epoch: 9 [0/60000 (0%)]\tLoss: 0.247778\n",
            "Train Epoch: 9 [10000/60000 (17%)]\tLoss: 0.091533\n",
            "Train Epoch: 9 [20000/60000 (33%)]\tLoss: 0.262701\n",
            "Train Epoch: 9 [30000/60000 (50%)]\tLoss: 0.162064\n",
            "Train Epoch: 9 [40000/60000 (67%)]\tLoss: 0.176708\n",
            "Train Epoch: 9 [50000/60000 (83%)]\tLoss: 0.178076\n",
            "\n",
            "Test set: Average loss: 0.0019, Accuracy: 9464/10000 (95%)\n",
            "\n",
            "Train Epoch: 10 [0/60000 (0%)]\tLoss: 0.109447\n",
            "Train Epoch: 10 [10000/60000 (17%)]\tLoss: 0.132851\n",
            "Train Epoch: 10 [20000/60000 (33%)]\tLoss: 0.183593\n",
            "Train Epoch: 10 [30000/60000 (50%)]\tLoss: 0.198029\n",
            "Train Epoch: 10 [40000/60000 (67%)]\tLoss: 0.141734\n",
            "Train Epoch: 10 [50000/60000 (83%)]\tLoss: 0.150367\n",
            "\n",
            "Test set: Average loss: 0.0018, Accuracy: 9483/10000 (95%)\n",
            "\n"
          ]
        }
      ],
      "source": [
        "losses_tanh = []\n",
        "accuracy_list_tanh = []\n",
        "\n",
        "for epoch in range(1, args['epochs'] + 1):\n",
        "    loss = train_tanh(epoch)\n",
        "    accuracy = test_tanh()\n",
        "\n",
        "    losses_tanh.append(loss)\n",
        "    accuracy_list_tanh.append(accuracy)"
      ]
    },
    {
      "cell_type": "code",
      "execution_count": 48,
      "metadata": {
        "colab": {
          "base_uri": "https://localhost:8080/",
          "height": 472
        },
        "id": "jQIkDeYxv2b0",
        "outputId": "217df0d9-1adb-449d-8d82-0c26058cc211"
      },
      "outputs": [
        {
          "data": {
            "image/png": "[encoded data removed]",
            "text/plain": [
              "<Figure size 640x480 with 1 Axes>"
            ]
          },
          "metadata": {},
          "output_type": "display_data"
        }
      ],
      "source": [
        "import matplotlib.pyplot as plt\n",
        "\n",
        "plt.title('Tanh Loss/Accuracy vs. Epochs')\n",
        "plt.xlabel('Epochs')\n",
        "plt.plot([loss for loss in losses_tanh], label='Loss')\n",
        "plt.plot([acc.item() / 100 for acc in accuracy_list_tanh], label='Accuracy')\n",
        "plt.legend()\n",
        "plt.show()"
      ]
    },
    {
      "cell_type": "markdown",
      "metadata": {
        "id": "j-ThwUJxbYcs"
      },
      "source": [
        "### 2. Please use different layers in the model, e.g., 1 layer, 5 layers, 10 layers,  and then plot the training loss and testing accuracy."
      ]
    },
    {
      "cell_type": "markdown",
      "metadata": {
        "id": "Je59vu-eL5QK"
      },
      "source": [
        "1 layer:"
      ]
    },
    {
      "cell_type": "code",
      "execution_count": 51,
      "metadata": {
        "colab": {
          "base_uri": "https://localhost:8080/"
        },
        "id": "D2fTAFyEbYcs",
        "outputId": "a8e34b08-3153-4319-949d-c207166e3922"
      },
      "outputs": [
        {
          "name": "stdout",
          "output_type": "stream",
          "text": [
            "NetOneLayer(\n",
            "  (fc1): Linear(in_features=784, out_features=10, bias=True)\n",
            ")\n"
          ]
        }
      ],
      "source": [
        "# build an mlp\n",
        "class NetOneLayer(nn.Module):\n",
        "    def __init__(self):\n",
        "        super(NetOneLayer, self).__init__()\n",
        "        \n",
        "        self.fc1 = nn.Linear(28*28, 10)   # linear layer (784 -> 10)\n",
        "\n",
        "    def forward(self, x):\n",
        "        h0 = x.view(-1,28*28) #input layer\n",
        "        h1 = F.relu(self.fc1(h0)) # hidden layer 1\n",
        "\n",
        "        return h1\n",
        "\n",
        "model_one_layer = NetOneLayer()\n",
        "model_one_layer.cuda() # put the model on GPU\n",
        "print(model_one_layer)"
      ]
    },
    {
      "cell_type": "code",
      "execution_count": 52,
      "metadata": {
        "id": "In5kJiizZNPO"
      },
      "outputs": [],
      "source": [
        "# loss function\n",
        "criterion_one_layer = nn.CrossEntropyLoss()\n",
        "\n",
        "# optimizer\n",
        "optimizer_one_layer = torch.optim.SGD(model_one_layer.parameters(),lr = args['lr'])"
      ]
    },
    {
      "cell_type": "code",
      "execution_count": 53,
      "metadata": {
        "id": "tAJg5Ow8MGJ9"
      },
      "outputs": [],
      "source": [
        "def train_one_layer(epoch):\n",
        "    model_one_layer.train()\n",
        "    loss = 0\n",
        "    for batch_idx, (data, target) in enumerate(train_loader):\n",
        "        data, target = data.cuda(), target.cuda()\n",
        "        \n",
        "        output = model_one_layer(data)\n",
        "        loss = criterion_one_layer(output, target)\n",
        "\n",
        "        # compute gradients\n",
        "        optimizer_one_layer.zero_grad()\n",
        "        loss.backward()\n",
        "\n",
        "        #to do a one-step update on our parameter.\n",
        "        optimizer_one_layer.step()\n",
        "\n",
        "        #Print out the loss periodically. \n",
        "        if batch_idx % args['log_interval'] == 0:\n",
        "            print('Train Epoch: {} [{}/{} ({:.0f}%)]\\tLoss: {:.6f}'.format(\n",
        "                epoch, batch_idx * len(data), len(train_loader.dataset),\n",
        "                100. * batch_idx / len(train_loader), loss.item()))\n",
        "    return loss.item()"
      ]
    },
    {
      "cell_type": "code",
      "execution_count": 54,
      "metadata": {
        "id": "A3RgZfi1MILo"
      },
      "outputs": [],
      "source": [
        "def test_one_layer():\n",
        "    model_one_layer.eval()\n",
        "    test_loss = 0\n",
        "    correct = 0\n",
        "    for data, target in test_loader:\n",
        "        data, target = data.cuda(), target.cuda()\n",
        "\n",
        "        output = model(data)\n",
        "        test_loss += criterion_one_layer(output, target).item() # sum up batch loss\n",
        "        pred = output.data.max(1, keepdim=True)[1] \n",
        "        correct += pred.eq(target.data.view_as(pred)).long().cpu().sum()\n",
        "\n",
        "    test_loss /= len(test_loader.dataset)\n",
        "\n",
        "    print('\\nTest set: Average loss: {:.4f}, Accuracy: {}/{} ({:.0f}%)\\n'.format(\n",
        "        test_loss, correct, len(test_loader.dataset),\n",
        "        100. * correct / len(test_loader.dataset)))\n",
        "    \n",
        "    return 100. * correct / len(test_loader.dataset)"
      ]
    },
    {
      "cell_type": "code",
      "execution_count": 55,
      "metadata": {
        "colab": {
          "base_uri": "https://localhost:8080/"
        },
        "id": "DJW23OHBMJVD",
        "outputId": "e4ae749b-3ebf-42bf-f53b-dcdb7d50783c"
      },
      "outputs": [
        {
          "name": "stdout",
          "output_type": "stream",
          "text": [
            "Train Epoch: 1 [0/60000 (0%)]\tLoss: 2.325093\n",
            "Train Epoch: 1 [10000/60000 (17%)]\tLoss: 0.793018\n",
            "Train Epoch: 1 [20000/60000 (33%)]\tLoss: 0.482458\n",
            "Train Epoch: 1 [30000/60000 (50%)]\tLoss: 0.346771\n",
            "Train Epoch: 1 [40000/60000 (67%)]\tLoss: 0.426886\n",
            "Train Epoch: 1 [50000/60000 (83%)]\tLoss: 0.387705\n",
            "\n",
            "Test set: Average loss: 0.0015, Accuracy: 9557/10000 (96%)\n",
            "\n",
            "Train Epoch: 2 [0/60000 (0%)]\tLoss: 0.490653\n",
            "Train Epoch: 2 [10000/60000 (17%)]\tLoss: 0.411139\n",
            "Train Epoch: 2 [20000/60000 (33%)]\tLoss: 0.491730\n",
            "Train Epoch: 2 [30000/60000 (50%)]\tLoss: 0.492235\n",
            "Train Epoch: 2 [40000/60000 (67%)]\tLoss: 0.451535\n",
            "Train Epoch: 2 [50000/60000 (83%)]\tLoss: 0.467936\n",
            "\n",
            "Test set: Average loss: 0.0015, Accuracy: 9557/10000 (96%)\n",
            "\n",
            "Train Epoch: 3 [0/60000 (0%)]\tLoss: 0.295835\n",
            "Train Epoch: 3 [10000/60000 (17%)]\tLoss: 0.357017\n",
            "Train Epoch: 3 [20000/60000 (33%)]\tLoss: 0.427116\n",
            "Train Epoch: 3 [30000/60000 (50%)]\tLoss: 0.217906\n",
            "Train Epoch: 3 [40000/60000 (67%)]\tLoss: 0.298347\n",
            "Train Epoch: 3 [50000/60000 (83%)]\tLoss: 0.356115\n",
            "\n",
            "Test set: Average loss: 0.0015, Accuracy: 9557/10000 (96%)\n",
            "\n",
            "Train Epoch: 4 [0/60000 (0%)]\tLoss: 0.345984\n",
            "Train Epoch: 4 [10000/60000 (17%)]\tLoss: 0.340565\n",
            "Train Epoch: 4 [20000/60000 (33%)]\tLoss: 0.347363\n",
            "Train Epoch: 4 [30000/60000 (50%)]\tLoss: 0.232878\n",
            "Train Epoch: 4 [40000/60000 (67%)]\tLoss: 0.342307\n",
            "Train Epoch: 4 [50000/60000 (83%)]\tLoss: 0.374653\n",
            "\n",
            "Test set: Average loss: 0.0015, Accuracy: 9557/10000 (96%)\n",
            "\n",
            "Train Epoch: 5 [0/60000 (0%)]\tLoss: 0.264932\n",
            "Train Epoch: 5 [10000/60000 (17%)]\tLoss: 0.262110\n",
            "Train Epoch: 5 [20000/60000 (33%)]\tLoss: 0.318167\n",
            "Train Epoch: 5 [30000/60000 (50%)]\tLoss: 0.283102\n",
            "Train Epoch: 5 [40000/60000 (67%)]\tLoss: 0.389710\n",
            "Train Epoch: 5 [50000/60000 (83%)]\tLoss: 0.283756\n",
            "\n",
            "Test set: Average loss: 0.0015, Accuracy: 9557/10000 (96%)\n",
            "\n",
            "Train Epoch: 6 [0/60000 (0%)]\tLoss: 0.192324\n",
            "Train Epoch: 6 [10000/60000 (17%)]\tLoss: 0.486045\n",
            "Train Epoch: 6 [20000/60000 (33%)]\tLoss: 0.231814\n",
            "Train Epoch: 6 [30000/60000 (50%)]\tLoss: 0.295882\n",
            "Train Epoch: 6 [40000/60000 (67%)]\tLoss: 0.277737\n",
            "Train Epoch: 6 [50000/60000 (83%)]\tLoss: 0.358687\n",
            "\n",
            "Test set: Average loss: 0.0015, Accuracy: 9557/10000 (96%)\n",
            "\n",
            "Train Epoch: 7 [0/60000 (0%)]\tLoss: 0.252357\n",
            "Train Epoch: 7 [10000/60000 (17%)]\tLoss: 0.300297\n",
            "Train Epoch: 7 [20000/60000 (33%)]\tLoss: 0.238661\n",
            "Train Epoch: 7 [30000/60000 (50%)]\tLoss: 0.187583\n",
            "Train Epoch: 7 [40000/60000 (67%)]\tLoss: 0.200420\n",
            "Train Epoch: 7 [50000/60000 (83%)]\tLoss: 0.219832\n",
            "\n",
            "Test set: Average loss: 0.0015, Accuracy: 9557/10000 (96%)\n",
            "\n",
            "Train Epoch: 8 [0/60000 (0%)]\tLoss: 0.395781\n",
            "Train Epoch: 8 [10000/60000 (17%)]\tLoss: 0.360950\n",
            "Train Epoch: 8 [20000/60000 (33%)]\tLoss: 0.186763\n",
            "Train Epoch: 8 [30000/60000 (50%)]\tLoss: 0.216915\n",
            "Train Epoch: 8 [40000/60000 (67%)]\tLoss: 0.435284\n",
            "Train Epoch: 8 [50000/60000 (83%)]\tLoss: 0.351641\n",
            "\n",
            "Test set: Average loss: 0.0015, Accuracy: 9557/10000 (96%)\n",
            "\n",
            "Train Epoch: 9 [0/60000 (0%)]\tLoss: 0.211857\n",
            "Train Epoch: 9 [10000/60000 (17%)]\tLoss: 0.325320\n",
            "Train Epoch: 9 [20000/60000 (33%)]\tLoss: 0.305317\n",
            "Train Epoch: 9 [30000/60000 (50%)]\tLoss: 0.223936\n",
            "Train Epoch: 9 [40000/60000 (67%)]\tLoss: 0.223712\n",
            "Train Epoch: 9 [50000/60000 (83%)]\tLoss: 0.232150\n",
            "\n",
            "Test set: Average loss: 0.0015, Accuracy: 9557/10000 (96%)\n",
            "\n",
            "Train Epoch: 10 [0/60000 (0%)]\tLoss: 0.301107\n",
            "Train Epoch: 10 [10000/60000 (17%)]\tLoss: 0.229266\n",
            "Train Epoch: 10 [20000/60000 (33%)]\tLoss: 0.283950\n",
            "Train Epoch: 10 [30000/60000 (50%)]\tLoss: 0.209330\n",
            "Train Epoch: 10 [40000/60000 (67%)]\tLoss: 0.212472\n",
            "Train Epoch: 10 [50000/60000 (83%)]\tLoss: 0.221677\n",
            "\n",
            "Test set: Average loss: 0.0015, Accuracy: 9557/10000 (96%)\n",
            "\n"
          ]
        }
      ],
      "source": [
        "losses_one_layer = []\n",
        "accuracy_list_one_layer = []\n",
        "\n",
        "for epoch in range(1, args['epochs'] + 1):\n",
        "    loss = train_one_layer(epoch)\n",
        "    accuracy = test_one_layer()\n",
        "\n",
        "    losses_one_layer.append(loss)\n",
        "    accuracy_list_one_layer.append(accuracy)"
      ]
    },
    {
      "cell_type": "code",
      "execution_count": 56,
      "metadata": {
        "colab": {
          "base_uri": "https://localhost:8080/",
          "height": 472
        },
        "id": "25z3y4RUMJRI",
        "outputId": "39c17b4f-4faa-482c-8480-601ea4b040b2"
      },
      "outputs": [
        {
          "data": {
            "image/png": "[encoded data removed]",
            "text/plain": [
              "<Figure size 640x480 with 1 Axes>"
            ]
          },
          "metadata": {},
          "output_type": "display_data"
        }
      ],
      "source": [
        "import matplotlib.pyplot as plt\n",
        "\n",
        "plt.title('One Layer Loss/Accuracy vs. Epochs')\n",
        "plt.xlabel('Epochs')\n",
        "plt.plot([loss for loss in losses_one_layer], label='Loss')\n",
        "plt.plot([acc.item() / 100 for acc in accuracy_list_one_layer], label='Accuracy')\n",
        "plt.legend()\n",
        "plt.show()"
      ]
    },
    {
      "cell_type": "markdown",
      "metadata": {
        "id": "mlF7QaphIdRR"
      },
      "source": [
        "5 layers:"
      ]
    },
    {
      "cell_type": "code",
      "execution_count": 57,
      "metadata": {
        "colab": {
          "base_uri": "https://localhost:8080/"
        },
        "id": "ABDAmrh4b8Df",
        "outputId": "4a60f2e6-082d-4f32-97c2-4e3bb47fd229"
      },
      "outputs": [
        {
          "name": "stdout",
          "output_type": "stream",
          "text": [
            "NetFiveLayers(\n",
            "  (fc1): Linear(in_features=784, out_features=128, bias=True)\n",
            "  (fc2): Linear(in_features=128, out_features=64, bias=True)\n",
            "  (fc3): Linear(in_features=64, out_features=32, bias=True)\n",
            "  (fc4): Linear(in_features=32, out_features=16, bias=True)\n",
            "  (fc5): Linear(in_features=16, out_features=10, bias=True)\n",
            ")\n"
          ]
        }
      ],
      "source": [
        "# build an mlp\n",
        "class NetFiveLayers(nn.Module):\n",
        "    def __init__(self):\n",
        "        super(NetFiveLayers, self).__init__()\n",
        "        \n",
        "        self.fc1 = nn.Linear(28*28, 128)   # linear layer (784 -> 128)\n",
        "        self.fc2 = nn.Linear(128, 64)   # linear layer (128 -> 64)\n",
        "        self.fc3 = nn.Linear(64, 32)   # linear layer (64 -> 32)\n",
        "        self.fc4 = nn.Linear(32, 16)   # linear layer (32 -> 16)\n",
        "        self.fc5 = nn.Linear(16, 10)   # linear layer (16 -> 10)\n",
        "\n",
        "    def forward(self, x):\n",
        "        h0 = x.view(-1,28*28) #input layer\n",
        "        h1 = F.relu(self.fc1(h0)) # hidden layer 1\n",
        "        h2 = F.relu(self.fc2(h1)) # hidden layer 2\n",
        "        h3 = F.relu(self.fc3(h2)) # hidden layer 3\n",
        "        h4 = F.relu(self.fc4(h3)) # hidden layer 4\n",
        "        h5 = self.fc5(h4) # output layer\n",
        "\n",
        "        return h5\n",
        "\n",
        "model_five_layers = NetFiveLayers()\n",
        "model_five_layers.cuda() # put the model on GPU\n",
        "print(model_five_layers)"
      ]
    },
    {
      "cell_type": "code",
      "execution_count": 58,
      "metadata": {
        "id": "Xf4vA9Tgb-Xy"
      },
      "outputs": [],
      "source": [
        "# loss function\n",
        "criterion_five_layers = nn.CrossEntropyLoss()\n",
        "\n",
        "# optimizer\n",
        "optimizer_five_layers = torch.optim.SGD(model_five_layers.parameters(),lr = args['lr'])"
      ]
    },
    {
      "cell_type": "code",
      "execution_count": 59,
      "metadata": {
        "id": "A0UCOLTeb_QL"
      },
      "outputs": [],
      "source": [
        "def train_five_layers(epoch):\n",
        "    model_five_layers.train()\n",
        "    loss = 0\n",
        "    for batch_idx, (data, target) in enumerate(train_loader):\n",
        "        data, target = data.cuda(), target.cuda()\n",
        "        \n",
        "        output = model_five_layers(data)\n",
        "        loss = criterion_five_layers(output, target)\n",
        "\n",
        "        # compute gradients\n",
        "        optimizer_five_layers.zero_grad()\n",
        "        loss.backward()\n",
        "\n",
        "        #to do a one-step update on our parameter.\n",
        "        optimizer_five_layers.step()\n",
        "\n",
        "        #Print out the loss periodically. \n",
        "        if batch_idx % args['log_interval'] == 0:\n",
        "            print('Train Epoch: {} [{}/{} ({:.0f}%)]\\tLoss: {:.6f}'.format(\n",
        "                epoch, batch_idx * len(data), len(train_loader.dataset),\n",
        "                100. * batch_idx / len(train_loader), loss.item()))\n",
        "    return loss.item()"
      ]
    },
    {
      "cell_type": "code",
      "execution_count": 60,
      "metadata": {
        "id": "fP1qRblXcA7y"
      },
      "outputs": [],
      "source": [
        "def test_five_layers():\n",
        "    model_five_layers.eval()\n",
        "    test_loss = 0\n",
        "    correct = 0\n",
        "    for data, target in test_loader:\n",
        "        data, target = data.cuda(), target.cuda()\n",
        "\n",
        "        output = model(data)\n",
        "        test_loss += criterion_five_layers(output, target).item() # sum up batch loss\n",
        "        pred = output.data.max(1, keepdim=True)[1] \n",
        "        correct += pred.eq(target.data.view_as(pred)).long().cpu().sum()\n",
        "\n",
        "    test_loss /= len(test_loader.dataset)\n",
        "\n",
        "    print('\\nTest set: Average loss: {:.4f}, Accuracy: {}/{} ({:.0f}%)\\n'.format(\n",
        "        test_loss, correct, len(test_loader.dataset),\n",
        "        100. * correct / len(test_loader.dataset)))\n",
        "    \n",
        "    return 100. * correct / len(test_loader.dataset)"
      ]
    },
    {
      "cell_type": "code",
      "execution_count": 61,
      "metadata": {
        "colab": {
          "base_uri": "https://localhost:8080/"
        },
        "id": "JHXHcNcxcCRQ",
        "outputId": "3b25ace7-5c63-438c-9321-721960bcee01"
      },
      "outputs": [
        {
          "name": "stdout",
          "output_type": "stream",
          "text": [
            "Train Epoch: 1 [0/60000 (0%)]\tLoss: 2.330528\n",
            "Train Epoch: 1 [10000/60000 (17%)]\tLoss: 2.298578\n",
            "Train Epoch: 1 [20000/60000 (33%)]\tLoss: 2.316647\n",
            "Train Epoch: 1 [30000/60000 (50%)]\tLoss: 2.280205\n",
            "Train Epoch: 1 [40000/60000 (67%)]\tLoss: 2.225817\n",
            "Train Epoch: 1 [50000/60000 (83%)]\tLoss: 2.230194\n",
            "\n",
            "Test set: Average loss: 0.0015, Accuracy: 9557/10000 (96%)\n",
            "\n",
            "Train Epoch: 2 [0/60000 (0%)]\tLoss: 2.009224\n",
            "Train Epoch: 2 [10000/60000 (17%)]\tLoss: 1.978200\n",
            "Train Epoch: 2 [20000/60000 (33%)]\tLoss: 1.800181\n",
            "Train Epoch: 2 [30000/60000 (50%)]\tLoss: 1.609325\n",
            "Train Epoch: 2 [40000/60000 (67%)]\tLoss: 1.221334\n",
            "Train Epoch: 2 [50000/60000 (83%)]\tLoss: 1.031733\n",
            "\n",
            "Test set: Average loss: 0.0015, Accuracy: 9557/10000 (96%)\n",
            "\n",
            "Train Epoch: 3 [0/60000 (0%)]\tLoss: 1.007164\n",
            "Train Epoch: 3 [10000/60000 (17%)]\tLoss: 1.007540\n",
            "Train Epoch: 3 [20000/60000 (33%)]\tLoss: 1.088130\n",
            "Train Epoch: 3 [30000/60000 (50%)]\tLoss: 0.934075\n",
            "Train Epoch: 3 [40000/60000 (67%)]\tLoss: 0.584727\n",
            "Train Epoch: 3 [50000/60000 (83%)]\tLoss: 0.570603\n",
            "\n",
            "Test set: Average loss: 0.0015, Accuracy: 9557/10000 (96%)\n",
            "\n",
            "Train Epoch: 4 [0/60000 (0%)]\tLoss: 0.518973\n",
            "Train Epoch: 4 [10000/60000 (17%)]\tLoss: 0.488875\n",
            "Train Epoch: 4 [20000/60000 (33%)]\tLoss: 0.506149\n",
            "Train Epoch: 4 [30000/60000 (50%)]\tLoss: 0.432813\n",
            "Train Epoch: 4 [40000/60000 (67%)]\tLoss: 0.323473\n",
            "Train Epoch: 4 [50000/60000 (83%)]\tLoss: 0.292551\n",
            "\n",
            "Test set: Average loss: 0.0015, Accuracy: 9557/10000 (96%)\n",
            "\n",
            "Train Epoch: 5 [0/60000 (0%)]\tLoss: 0.387364\n",
            "Train Epoch: 5 [10000/60000 (17%)]\tLoss: 0.327334\n",
            "Train Epoch: 5 [20000/60000 (33%)]\tLoss: 0.324075\n",
            "Train Epoch: 5 [30000/60000 (50%)]\tLoss: 0.216846\n",
            "Train Epoch: 5 [40000/60000 (67%)]\tLoss: 0.269590\n",
            "Train Epoch: 5 [50000/60000 (83%)]\tLoss: 0.471859\n",
            "\n",
            "Test set: Average loss: 0.0015, Accuracy: 9557/10000 (96%)\n",
            "\n",
            "Train Epoch: 6 [0/60000 (0%)]\tLoss: 0.254921\n",
            "Train Epoch: 6 [10000/60000 (17%)]\tLoss: 0.348824\n",
            "Train Epoch: 6 [20000/60000 (33%)]\tLoss: 0.361372\n",
            "Train Epoch: 6 [30000/60000 (50%)]\tLoss: 0.236902\n",
            "Train Epoch: 6 [40000/60000 (67%)]\tLoss: 0.190073\n",
            "Train Epoch: 6 [50000/60000 (83%)]\tLoss: 0.323329\n",
            "\n",
            "Test set: Average loss: 0.0015, Accuracy: 9557/10000 (96%)\n",
            "\n",
            "Train Epoch: 7 [0/60000 (0%)]\tLoss: 0.164251\n",
            "Train Epoch: 7 [10000/60000 (17%)]\tLoss: 0.210148\n",
            "Train Epoch: 7 [20000/60000 (33%)]\tLoss: 0.288057\n",
            "Train Epoch: 7 [30000/60000 (50%)]\tLoss: 0.275734\n",
            "Train Epoch: 7 [40000/60000 (67%)]\tLoss: 0.159253\n",
            "Train Epoch: 7 [50000/60000 (83%)]\tLoss: 0.266523\n",
            "\n",
            "Test set: Average loss: 0.0015, Accuracy: 9557/10000 (96%)\n",
            "\n",
            "Train Epoch: 8 [0/60000 (0%)]\tLoss: 0.138436\n",
            "Train Epoch: 8 [10000/60000 (17%)]\tLoss: 0.084530\n",
            "Train Epoch: 8 [20000/60000 (33%)]\tLoss: 0.127903\n",
            "Train Epoch: 8 [30000/60000 (50%)]\tLoss: 0.232248\n",
            "Train Epoch: 8 [40000/60000 (67%)]\tLoss: 0.203595\n",
            "Train Epoch: 8 [50000/60000 (83%)]\tLoss: 0.177736\n",
            "\n",
            "Test set: Average loss: 0.0015, Accuracy: 9557/10000 (96%)\n",
            "\n",
            "Train Epoch: 9 [0/60000 (0%)]\tLoss: 0.252310\n",
            "Train Epoch: 9 [10000/60000 (17%)]\tLoss: 0.180329\n",
            "Train Epoch: 9 [20000/60000 (33%)]\tLoss: 0.078307\n",
            "Train Epoch: 9 [30000/60000 (50%)]\tLoss: 0.220604\n",
            "Train Epoch: 9 [40000/60000 (67%)]\tLoss: 0.251862\n",
            "Train Epoch: 9 [50000/60000 (83%)]\tLoss: 0.146867\n",
            "\n",
            "Test set: Average loss: 0.0015, Accuracy: 9557/10000 (96%)\n",
            "\n",
            "Train Epoch: 10 [0/60000 (0%)]\tLoss: 0.216976\n",
            "Train Epoch: 10 [10000/60000 (17%)]\tLoss: 0.109735\n",
            "Train Epoch: 10 [20000/60000 (33%)]\tLoss: 0.112890\n",
            "Train Epoch: 10 [30000/60000 (50%)]\tLoss: 0.197420\n",
            "Train Epoch: 10 [40000/60000 (67%)]\tLoss: 0.233447\n",
            "Train Epoch: 10 [50000/60000 (83%)]\tLoss: 0.183661\n",
            "\n",
            "Test set: Average loss: 0.0015, Accuracy: 9557/10000 (96%)\n",
            "\n"
          ]
        }
      ],
      "source": [
        "losses_five_layers = []\n",
        "accuracy_list_five_layers = []\n",
        "\n",
        "for epoch in range(1, args['epochs'] + 1):\n",
        "    loss = train_five_layers(epoch)\n",
        "    accuracy = test_five_layers()\n",
        "\n",
        "    losses_five_layers.append(loss)\n",
        "    accuracy_list_five_layers.append(accuracy)"
      ]
    },
    {
      "cell_type": "code",
      "execution_count": 62,
      "metadata": {
        "colab": {
          "base_uri": "https://localhost:8080/",
          "height": 472
        },
        "id": "dFIQAjN0e1XS",
        "outputId": "9b493542-1763-4980-9298-9528a69f287d"
      },
      "outputs": [
        {
          "data": {
            "image/png": "[encoded data removed]",
            "text/plain": [
              "<Figure size 640x480 with 1 Axes>"
            ]
          },
          "metadata": {},
          "output_type": "display_data"
        }
      ],
      "source": [
        "import matplotlib.pyplot as plt\n",
        "\n",
        "plt.title('Five Layers Loss/Accuracy vs. Epochs')\n",
        "plt.xlabel('Epochs')\n",
        "plt.plot([loss for loss in losses_five_layers], label='Loss')\n",
        "plt.plot([acc.item() / 100 for acc in accuracy_list_five_layers], label='Accuracy')\n",
        "plt.legend()\n",
        "plt.show()"
      ]
    },
    {
      "attachments": {},
      "cell_type": "markdown",
      "metadata": {},
      "source": [
        "Ten layers:"
      ]
    },
    {
      "cell_type": "code",
      "execution_count": 63,
      "metadata": {
        "colab": {
          "base_uri": "https://localhost:8080/"
        },
        "id": "EvXT8nEBfoUR",
        "outputId": "a4d9c860-28da-437a-aeca-b238d9b24ca8"
      },
      "outputs": [
        {
          "name": "stdout",
          "output_type": "stream",
          "text": [
            "NetTenLayers(\n",
            "  (fc1): Linear(in_features=784, out_features=512, bias=True)\n",
            "  (fc2): Linear(in_features=512, out_features=256, bias=True)\n",
            "  (fc3): Linear(in_features=256, out_features=128, bias=True)\n",
            "  (fc4): Linear(in_features=128, out_features=64, bias=True)\n",
            "  (fc5): Linear(in_features=64, out_features=32, bias=True)\n",
            "  (fc6): Linear(in_features=32, out_features=16, bias=True)\n",
            "  (fc7): Linear(in_features=16, out_features=8, bias=True)\n",
            "  (fc8): Linear(in_features=8, out_features=4, bias=True)\n",
            "  (fc9): Linear(in_features=4, out_features=2, bias=True)\n",
            "  (fc10): Linear(in_features=2, out_features=10, bias=True)\n",
            ")\n"
          ]
        }
      ],
      "source": [
        "# build an mlp\n",
        "class NetTenLayers(nn.Module):\n",
        "    def __init__(self):\n",
        "        super(NetTenLayers, self).__init__()\n",
        "        \n",
        "        self.fc1 = nn.Linear(28*28, 512)   # linear layer (784 -> 512)\n",
        "        self.fc2 = nn.Linear(512, 256)   # linear layer (512 -> 256)\n",
        "        self.fc3 = nn.Linear(256, 128)   # linear layer (256 -> 128)\n",
        "        self.fc4 = nn.Linear(128, 64)   # linear layer (256 -> 128)\n",
        "        self.fc5 = nn.Linear(64, 32)   # linear layer (64 -> 32)\n",
        "        self.fc6 = nn.Linear(32, 16)   # linear layer (32 -> 16)\n",
        "        self.fc7 = nn.Linear(16, 8)   # linear layer (16 -> 8)\n",
        "        self.fc8 = nn.Linear(8, 4)   # linear layer (8 -> 4)\n",
        "        self.fc9 = nn.Linear(4, 2)   # linear layer (4 -> 2)\n",
        "        self.fc10 = nn.Linear(2, 10)   # linear layer (2 -> 10)\n",
        "\n",
        "    def forward(self, x):\n",
        "        h0 = x.view(-1,28*28) #input layer\n",
        "        h1 = F.relu(self.fc1(h0)) # hidden layer 1\n",
        "        h2 = F.relu(self.fc2(h1)) # hidden layer 2\n",
        "        h3 = F.relu(self.fc3(h2)) # hidden layer 3\n",
        "        h4 = F.relu(self.fc4(h3)) # hidden layer 4\n",
        "        h5 = F.relu(self.fc5(h4)) # hidden layer 5\n",
        "        h6 = F.relu(self.fc6(h5)) # hidden layer 6\n",
        "        h7 = F.relu(self.fc7(h6)) # hidden layer 7\n",
        "        h8 = F.relu(self.fc8(h7)) # hidden layer 8\n",
        "        h9 = F.relu(self.fc9(h8)) # hidden layer 9\n",
        "        h10 = self.fc10(h9) # output layer\n",
        "\n",
        "        return h10\n",
        "\n",
        "model_ten_layers = NetTenLayers()\n",
        "model_ten_layers.cuda() # put the model on GPU\n",
        "print(model_ten_layers)"
      ]
    },
    {
      "cell_type": "code",
      "execution_count": 64,
      "metadata": {
        "id": "JUmqQlygfy9A"
      },
      "outputs": [],
      "source": [
        "# loss function\n",
        "criterion_ten_layers = nn.CrossEntropyLoss()\n",
        "\n",
        "# optimizer\n",
        "optimizer_ten_layers = torch.optim.SGD(model_ten_layers.parameters(),lr = args['lr'])"
      ]
    },
    {
      "cell_type": "code",
      "execution_count": 65,
      "metadata": {
        "id": "qfC-zfMkf0RN"
      },
      "outputs": [],
      "source": [
        "def train_ten_layers(epoch):\n",
        "    model_ten_layers.train()\n",
        "    loss = 0\n",
        "    for batch_idx, (data, target) in enumerate(train_loader):\n",
        "        data, target = data.cuda(), target.cuda()\n",
        "        \n",
        "        output = model_ten_layers(data)\n",
        "        loss = criterion_ten_layers(output, target)\n",
        "\n",
        "        # compute gradients\n",
        "        optimizer_ten_layers.zero_grad()\n",
        "        loss.backward()\n",
        "\n",
        "        #to do a one-step update on our parameter.\n",
        "        optimizer_ten_layers.step()\n",
        "\n",
        "        #Print out the loss periodically. \n",
        "        if batch_idx % args['log_interval'] == 0:\n",
        "            print('Train Epoch: {} [{}/{} ({:.0f}%)]\\tLoss: {:.6f}'.format(\n",
        "                epoch, batch_idx * len(data), len(train_loader.dataset),\n",
        "                100. * batch_idx / len(train_loader), loss.item()))\n",
        "    return loss.item()"
      ]
    },
    {
      "cell_type": "code",
      "execution_count": 66,
      "metadata": {
        "id": "hacWTgdtf1ao"
      },
      "outputs": [],
      "source": [
        "def test_ten_layers():\n",
        "    model_ten_layers.eval()\n",
        "    test_loss = 0\n",
        "    correct = 0\n",
        "    for data, target in test_loader:\n",
        "        data, target = data.cuda(), target.cuda()\n",
        "\n",
        "        output = model(data)\n",
        "        test_loss += criterion_ten_layers(output, target).item() # sum up batch loss\n",
        "        pred = output.data.max(1, keepdim=True)[1] \n",
        "        correct += pred.eq(target.data.view_as(pred)).long().cpu().sum()\n",
        "\n",
        "    test_loss /= len(test_loader.dataset)\n",
        "\n",
        "    print('\\nTest set: Average loss: {:.4f}, Accuracy: {}/{} ({:.0f}%)\\n'.format(\n",
        "        test_loss, correct, len(test_loader.dataset),\n",
        "        100. * correct / len(test_loader.dataset)))\n",
        "    \n",
        "    return 100. * correct / len(test_loader.dataset)"
      ]
    },
    {
      "cell_type": "code",
      "execution_count": 67,
      "metadata": {
        "colab": {
          "base_uri": "https://localhost:8080/"
        },
        "id": "GJ-J_nbQf2i0",
        "outputId": "c5dfbb51-2d20-4a6a-8cab-85e0374fa863"
      },
      "outputs": [
        {
          "name": "stdout",
          "output_type": "stream",
          "text": [
            "Train Epoch: 1 [0/60000 (0%)]\tLoss: 2.344265\n",
            "Train Epoch: 1 [10000/60000 (17%)]\tLoss: 2.358868\n",
            "Train Epoch: 1 [20000/60000 (33%)]\tLoss: 2.320613\n",
            "Train Epoch: 1 [30000/60000 (50%)]\tLoss: 2.339615\n",
            "Train Epoch: 1 [40000/60000 (67%)]\tLoss: 2.302228\n",
            "Train Epoch: 1 [50000/60000 (83%)]\tLoss: 2.330927\n",
            "\n",
            "Test set: Average loss: 0.0015, Accuracy: 9557/10000 (96%)\n",
            "\n",
            "Train Epoch: 2 [0/60000 (0%)]\tLoss: 2.313117\n",
            "Train Epoch: 2 [10000/60000 (17%)]\tLoss: 2.326921\n",
            "Train Epoch: 2 [20000/60000 (33%)]\tLoss: 2.319782\n",
            "Train Epoch: 2 [30000/60000 (50%)]\tLoss: 2.318413\n",
            "Train Epoch: 2 [40000/60000 (67%)]\tLoss: 2.297548\n",
            "Train Epoch: 2 [50000/60000 (83%)]\tLoss: 2.307275\n",
            "\n",
            "Test set: Average loss: 0.0015, Accuracy: 9557/10000 (96%)\n",
            "\n",
            "Train Epoch: 3 [0/60000 (0%)]\tLoss: 2.302700\n",
            "Train Epoch: 3 [10000/60000 (17%)]\tLoss: 2.304250\n",
            "Train Epoch: 3 [20000/60000 (33%)]\tLoss: 2.308231\n",
            "Train Epoch: 3 [30000/60000 (50%)]\tLoss: 2.305669\n",
            "Train Epoch: 3 [40000/60000 (67%)]\tLoss: 2.308044\n",
            "Train Epoch: 3 [50000/60000 (83%)]\tLoss: 2.312421\n",
            "\n",
            "Test set: Average loss: 0.0015, Accuracy: 9557/10000 (96%)\n",
            "\n",
            "Train Epoch: 4 [0/60000 (0%)]\tLoss: 2.302439\n",
            "Train Epoch: 4 [10000/60000 (17%)]\tLoss: 2.310923\n",
            "Train Epoch: 4 [20000/60000 (33%)]\tLoss: 2.305914\n",
            "Train Epoch: 4 [30000/60000 (50%)]\tLoss: 2.301818\n",
            "Train Epoch: 4 [40000/60000 (67%)]\tLoss: 2.301727\n",
            "Train Epoch: 4 [50000/60000 (83%)]\tLoss: 2.300619\n",
            "\n",
            "Test set: Average loss: 0.0015, Accuracy: 9557/10000 (96%)\n",
            "\n",
            "Train Epoch: 5 [0/60000 (0%)]\tLoss: 2.300821\n",
            "Train Epoch: 5 [10000/60000 (17%)]\tLoss: 2.296227\n",
            "Train Epoch: 5 [20000/60000 (33%)]\tLoss: 2.300745\n",
            "Train Epoch: 5 [30000/60000 (50%)]\tLoss: 2.295981\n",
            "Train Epoch: 5 [40000/60000 (67%)]\tLoss: 2.302956\n",
            "Train Epoch: 5 [50000/60000 (83%)]\tLoss: 2.306427\n",
            "\n",
            "Test set: Average loss: 0.0015, Accuracy: 9557/10000 (96%)\n",
            "\n",
            "Train Epoch: 6 [0/60000 (0%)]\tLoss: 2.303085\n",
            "Train Epoch: 6 [10000/60000 (17%)]\tLoss: 2.311002\n",
            "Train Epoch: 6 [20000/60000 (33%)]\tLoss: 2.297328\n",
            "Train Epoch: 6 [30000/60000 (50%)]\tLoss: 2.296965\n",
            "Train Epoch: 6 [40000/60000 (67%)]\tLoss: 2.299556\n",
            "Train Epoch: 6 [50000/60000 (83%)]\tLoss: 2.298970\n",
            "\n",
            "Test set: Average loss: 0.0015, Accuracy: 9557/10000 (96%)\n",
            "\n",
            "Train Epoch: 7 [0/60000 (0%)]\tLoss: 2.298848\n",
            "Train Epoch: 7 [10000/60000 (17%)]\tLoss: 2.297603\n",
            "Train Epoch: 7 [20000/60000 (33%)]\tLoss: 2.299118\n",
            "Train Epoch: 7 [30000/60000 (50%)]\tLoss: 2.297477\n",
            "Train Epoch: 7 [40000/60000 (67%)]\tLoss: 2.291847\n",
            "Train Epoch: 7 [50000/60000 (83%)]\tLoss: 2.284312\n",
            "\n",
            "Test set: Average loss: 0.0015, Accuracy: 9557/10000 (96%)\n",
            "\n",
            "Train Epoch: 8 [0/60000 (0%)]\tLoss: 2.301686\n",
            "Train Epoch: 8 [10000/60000 (17%)]\tLoss: 2.298228\n",
            "Train Epoch: 8 [20000/60000 (33%)]\tLoss: 2.300263\n",
            "Train Epoch: 8 [30000/60000 (50%)]\tLoss: 2.305677\n",
            "Train Epoch: 8 [40000/60000 (67%)]\tLoss: 2.298430\n",
            "Train Epoch: 8 [50000/60000 (83%)]\tLoss: 2.296911\n",
            "\n",
            "Test set: Average loss: 0.0015, Accuracy: 9557/10000 (96%)\n",
            "\n",
            "Train Epoch: 9 [0/60000 (0%)]\tLoss: 2.288238\n",
            "Train Epoch: 9 [10000/60000 (17%)]\tLoss: 2.303161\n",
            "Train Epoch: 9 [20000/60000 (33%)]\tLoss: 2.299985\n",
            "Train Epoch: 9 [30000/60000 (50%)]\tLoss: 2.286345\n",
            "Train Epoch: 9 [40000/60000 (67%)]\tLoss: 2.293765\n",
            "Train Epoch: 9 [50000/60000 (83%)]\tLoss: 2.298922\n",
            "\n",
            "Test set: Average loss: 0.0015, Accuracy: 9557/10000 (96%)\n",
            "\n",
            "Train Epoch: 10 [0/60000 (0%)]\tLoss: 2.303029\n",
            "Train Epoch: 10 [10000/60000 (17%)]\tLoss: 2.301416\n",
            "Train Epoch: 10 [20000/60000 (33%)]\tLoss: 2.300341\n",
            "Train Epoch: 10 [30000/60000 (50%)]\tLoss: 2.301122\n",
            "Train Epoch: 10 [40000/60000 (67%)]\tLoss: 2.296003\n",
            "\n",
            "Test set: Average loss: 0.0015, Accuracy: 9557/10000 (96%)\n",
            "\n"
          ]
        }
      ],
      "source": [
        "losses_ten_layers = []\n",
        "accuracy_list_ten_layers = []\n",
        "\n",
        "for epoch in range(1, args['epochs'] + 1):\n",
        "    loss = train_ten_layers(epoch)\n",
        "    accuracy = test_ten_layers()\n",
        "\n",
        "    losses_ten_layers.append(loss)\n",
        "    accuracy_list_ten_layers.append(accuracy)"
      ]
    },
    {
      "cell_type": "code",
      "execution_count": 69,
      "metadata": {
        "colab": {
          "base_uri": "https://localhost:8080/",
          "height": 472
        },
        "id": "CuymP80YgF0P",
        "outputId": "c7c236c2-9ee9-45b1-aeaf-da8b314762c9"
      },
      "outputs": [
        {
          "data": {
            "image/png": "[encoded data removed]",
            "text/plain": [
              "<Figure size 640x480 with 1 Axes>"
            ]
          },
          "metadata": {},
          "output_type": "display_data"
        }
      ],
      "source": [
        "import matplotlib.pyplot as plt\n",
        "\n",
        "plt.title('Ten Layers Loss/Accuracy vs. Epochs')\n",
        "plt.xlabel('Epochs')\n",
        "plt.plot([loss for loss in losses_ten_layers], label='Loss')\n",
        "plt.plot([acc.item() / 100 for acc in accuracy_list_ten_layers], label='Accuracy')\n",
        "plt.legend()\n",
        "plt.show()"
      ]
    }
  ],
  "metadata": {
    "accelerator": "GPU",
    "colab": {
      "provenance": []
    },
    "kernelspec": {
      "display_name": "Python 3",
      "language": "python",
      "name": "python3"
    },
    "language_info": {
      "codemirror_mode": {
        "name": "ipython",
        "version": 3
      },
      "file_extension": ".py",
      "mimetype": "text/x-python",
      "name": "python",
      "nbconvert_exporter": "python",
      "pygments_lexer": "ipython3",
      "version": "3.7.1"
    }
  },
  "nbformat": 4,
  "nbformat_minor": 0
}
